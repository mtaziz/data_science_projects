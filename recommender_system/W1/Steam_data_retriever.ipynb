{
 "cells": [
  {
   "cell_type": "code",
   "execution_count": 35,
   "metadata": {},
   "outputs": [],
   "source": [
    "import pandas as pd\n",
    "import json\n",
    "import requests\n",
    "import time"
   ]
  },
  {
   "cell_type": "markdown",
   "metadata": {},
   "source": [
    "#### Import files"
   ]
  },
  {
   "cell_type": "code",
   "execution_count": 2,
   "metadata": {},
   "outputs": [],
   "source": [
    "# API keys\n",
    "api_key = open('/Users/nzhang/data_science_projects/recommender_system/W1/apikey.txt','r').read()"
   ]
  },
  {
   "cell_type": "code",
   "execution_count": 3,
   "metadata": {},
   "outputs": [],
   "source": [
    "# 5000 User IDs\n",
    "file1 = open('/Users/nzhang/data_science_projects/recommender_system/W1/steam_user_id.txt')\n",
    "user_ids = [line.rstrip(\"\\n\") for line in file1.readlines() if line.strip()]"
   ]
  },
  {
   "cell_type": "code",
   "execution_count": 4,
   "metadata": {},
   "outputs": [],
   "source": [
    "# 500 App IDs\n",
    "file2 = open('/Users/nzhang/data_science_projects/recommender_system/W1/app_id.txt')\n",
    "app_ids = [line.rstrip(\"\\n\") for line in file2.readlines() if line.strip()]"
   ]
  },
  {
   "cell_type": "markdown",
   "metadata": {},
   "source": [
    "#### *Retrieve and store data of 5000 users*"
   ]
  },
  {
   "cell_type": "code",
   "execution_count": 38,
   "metadata": {
    "scrolled": true
   },
   "outputs": [
    {
     "name": "stdout",
     "output_type": "stream",
     "text": [
      "CPU times: user 1min 33s, sys: 5.37 s, total: 1min 38s\n",
      "Wall time: 21min 41s\n"
     ]
    }
   ],
   "source": [
    "%%time\n",
    "\n",
    "user_data = []\n",
    "\n",
    "for user_steam_id in user_ids:    \n",
    "    try:\n",
    "        user_url = 'https://api.steampowered.com/IPlayerService/GetOwnedGames/v0001/?key=' + \\\n",
    "                    api_key + '&steamid=' + user_steam_id +'&format=json'\n",
    "        user_info = requests.get(user_url).json()['response']\n",
    "        if len(user_info) > 0:\n",
    "            user_game_inventory = user_info['games']\n",
    "        else:\n",
    "            user_game_inventory = []\n",
    "        user_data.append({user_steam_id : user_game_inventory})\n",
    "        \n",
    "    except:\n",
    "        print(user_steam_id)"
   ]
  },
  {
   "cell_type": "code",
   "execution_count": 40,
   "metadata": {},
   "outputs": [
    {
     "data": {
      "text/plain": [
       "5000"
      ]
     },
     "execution_count": 40,
     "metadata": {},
     "output_type": "execute_result"
    }
   ],
   "source": [
    "len(user_data)"
   ]
  },
  {
   "cell_type": "code",
   "execution_count": 41,
   "metadata": {},
   "outputs": [],
   "source": [
    "# Write users json data to text file\n",
    "with open('user_game_data.txt', 'w') as outfile:\n",
    "    for hostDict in user_data:\n",
    "        json.dump(hostDict, outfile)\n",
    "        outfile.write('\\n')"
   ]
  },
  {
   "cell_type": "markdown",
   "metadata": {},
   "source": [
    "#### *Retrieve and store data of 500 games*\n",
    "Please keep in mind that you can only call this API 200 times every 5 minutes\n",
    "\n",
    "https://steamspy.com/api.php"
   ]
  },
  {
   "cell_type": "code",
   "execution_count": 36,
   "metadata": {},
   "outputs": [
    {
     "name": "stdout",
     "output_type": "stream",
     "text": [
      "CPU times: user 2.19 s, sys: 384 ms, total: 2.57 s\n",
      "Wall time: 14min 35s\n"
     ]
    }
   ],
   "source": [
    "%%time\n",
    "\n",
    "app_data = []\n",
    "\n",
    "for app_id in app_ids:\n",
    "    try:\n",
    "        app_url = 'http://steamspy.com/api.php?request=appdetails&appid=' + app_id\n",
    "        app_detail = requests.get(app_url).json()\n",
    "        app_data.append(app_detail)\n",
    "        \n",
    "    except:\n",
    "        print(app_data)\n",
    "        \n",
    "    time.sleep(1.5)"
   ]
  },
  {
   "cell_type": "code",
   "execution_count": 37,
   "metadata": {},
   "outputs": [
    {
     "data": {
      "text/plain": [
       "500"
      ]
     },
     "execution_count": 37,
     "metadata": {},
     "output_type": "execute_result"
    }
   ],
   "source": [
    "len(app_data)"
   ]
  },
  {
   "cell_type": "code",
   "execution_count": 39,
   "metadata": {},
   "outputs": [],
   "source": [
    "# Write games json data to text file\n",
    "with open('game_detail_data.txt', 'w') as outfile:\n",
    "    for hostDict in app_data:\n",
    "        json.dump(hostDict, outfile)\n",
    "        outfile.write('\\n')"
   ]
  },
  {
   "cell_type": "code",
   "execution_count": null,
   "metadata": {},
   "outputs": [],
   "source": []
  }
 ],
 "metadata": {
  "kernelspec": {
   "display_name": "Python 3",
   "language": "python",
   "name": "python3"
  },
  "language_info": {
   "codemirror_mode": {
    "name": "ipython",
    "version": 3
   },
   "file_extension": ".py",
   "mimetype": "text/x-python",
   "name": "python",
   "nbconvert_exporter": "python",
   "pygments_lexer": "ipython3",
   "version": "3.6.5"
  }
 },
 "nbformat": 4,
 "nbformat_minor": 2
}
