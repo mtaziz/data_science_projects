{
 "cells": [
  {
   "cell_type": "code",
   "execution_count": 1,
   "metadata": {},
   "outputs": [],
   "source": [
    "import requests, json, os, sys, time, re\n",
    "from datetime import datetime\n",
    "from multiprocessing import Pool\n",
    "from sqlalchemy import *"
   ]
  },
  {
   "cell_type": "code",
   "execution_count": 2,
   "metadata": {},
   "outputs": [],
   "source": [
    "def split_list(lst_long,n):\n",
    "    lst_splitted = []\n",
    "    if len(lst_long) % n == 0:\n",
    "        totalBatches = len(lst_long) / n\n",
    "    else:\n",
    "        totalBatches = len(lst_long) / n + 1\n",
    "    for i in xrange(totalBatches):\n",
    "        lst_short = lst_long[i*n:(i+1)*n]\n",
    "        lst_splitted.append(lst_short)\n",
    "    return lst_splitted\n",
    "\n",
    "\n",
    "def show_work_status(singleCount, totalCount, currentCount=0):\n",
    "    currentCount += singleCount\n",
    "    percentage = 1. * currentCount / totalCount * 100\n",
    "    status =  '>' * int(percentage)  + ' ' * (100 - int(percentage))\n",
    "    sys.stdout.write('\\rStatus: [{0}] {1:.2f}% '.format(status, percentage))\n",
    "    sys.stdout.flush()\n",
    "    if percentage >= 100:\n",
    "        print('\\n')"
   ]
  },
  {
   "cell_type": "code",
   "execution_count": 3,
   "metadata": {},
   "outputs": [],
   "source": [
    "path_user_id = 'steam_user_id.txt'\n",
    "with open(path_user_id, 'rb') as f:\n",
    "    lst_user_id = f.readlines()[:100]"
   ]
  },
  {
   "cell_type": "code",
   "execution_count": 4,
   "metadata": {},
   "outputs": [],
   "source": [
    "def worker(lst_user_id_temp):\n",
    "    dic_temp = {}\n",
    "    for user_id in lst_user_id_temp:\n",
    "        base_url = 'http://api.steampowered.com/IPlayerService/GetOwnedGames/v0001/'\n",
    "        params = {\n",
    "            'key' : 'D0C62157A8941F12A687382B6D635449',\n",
    "            'steamid' : user_id.strip(),\n",
    "            'format' : 'json' }\n",
    "        r = requests.get(base_url, params = params)\n",
    "        user_inventory = r.json().get('response').get('games')\n",
    "        dic_temp.update({user_id.strip():user_inventory})\n",
    "        time.sleep(.5)\n",
    "    return dic_temp"
   ]
  },
  {
   "cell_type": "code",
   "execution_count": 5,
   "metadata": {},
   "outputs": [],
   "source": [
    "p = Pool(2)"
   ]
  },
  {
   "cell_type": "code",
   "execution_count": 6,
   "metadata": {
    "collapsed": true
   },
   "outputs": [],
   "source": [
    "total_count = len(lst_user_id)"
   ]
  },
  {
   "cell_type": "code",
   "execution_count": 7,
   "metadata": {
    "collapsed": true
   },
   "outputs": [],
   "source": [
    "current_count = 0"
   ]
  },
  {
   "cell_type": "code",
   "execution_count": 8,
   "metadata": {},
   "outputs": [
    {
     "name": "stdout",
     "output_type": "stream",
     "text": [
      "\r",
      "Status: [                                                                                                    ] 0.00% "
     ]
    }
   ],
   "source": [
    "show_work_status(0, total_count, current_count)"
   ]
  },
  {
   "cell_type": "code",
   "execution_count": null,
   "metadata": {
    "collapsed": true
   },
   "outputs": [],
   "source": [
    "dic_master = {}\n",
    "for i in split_list(lst_user_id,50):\n",
    "    lst_temp_dic = p.map(worker, split_list(i,25))\n",
    "    for j in lst_temp_dic:\n",
    "        dic_master.update(j)\n",
    "    show_work_status(len(i), total_count, current_count)\n",
    "    current_count += len(i)\n",
    "    time.sleep(5)"
   ]
  },
  {
   "cell_type": "code",
   "execution_count": null,
   "metadata": {},
   "outputs": [
    {
     "name": "stdout",
     "output_type": "stream",
     "text": [
      "\r",
      "Status: [                                                                                                    ] 0.00% "
     ]
    }
   ],
   "source": [
    "p = Pool(2)\n",
    "\n",
    "total_count = len(lst_user_id)\n",
    "current_count = 0\n",
    "show_work_status(0, total_count, current_count)\n",
    "\n",
    "dic_master = {}\n",
    "for i in split_list(lst_user_id,50):\n",
    "    lst_temp_dic = p.map(worker, split_list(i,25))\n",
    "    for j in lst_temp_dic:\n",
    "        dic_master.update(j)\n",
    "    show_work_status(len(i), total_count, current_count)\n",
    "    current_count += len(i)\n",
    "    time.sleep(5)"
   ]
  },
  {
   "cell_type": "code",
   "execution_count": 9,
   "metadata": {
    "collapsed": true
   },
   "outputs": [],
   "source": [
    "with open('data/crawled_user_inventory.txt', 'wb') as f:\n",
    "    for user_id, user_inventory in dic_master.items():\n",
    "        f.write(json.dumps({user_id:user_inventory}))\n",
    "        f.write('\\n')"
   ]
  },
  {
   "cell_type": "code",
   "execution_count": null,
   "metadata": {
    "collapsed": true
   },
   "outputs": [],
   "source": []
  },
  {
   "cell_type": "code",
   "execution_count": null,
   "metadata": {
    "collapsed": true
   },
   "outputs": [],
   "source": []
  },
  {
   "cell_type": "code",
   "execution_count": null,
   "metadata": {
    "collapsed": true
   },
   "outputs": [],
   "source": [
    "# steam app info"
   ]
  },
  {
   "cell_type": "code",
   "execution_count": 10,
   "metadata": {
    "collapsed": true
   },
   "outputs": [],
   "source": [
    "r = requests.get('http://steamspy.com/api.php?request=all')\n",
    "dic_app_user = r.json()"
   ]
  },
  {
   "cell_type": "code",
   "execution_count": 11,
   "metadata": {},
   "outputs": [
    {
     "data": {
      "text/plain": [
       "14475"
      ]
     },
     "execution_count": 11,
     "metadata": {},
     "output_type": "execute_result"
    }
   ],
   "source": [
    "len(dic_app_user)"
   ]
  },
  {
   "cell_type": "code",
   "execution_count": 13,
   "metadata": {
    "collapsed": true
   },
   "outputs": [],
   "source": [
    "path_app_detail = 'data/app_detail.txt'"
   ]
  },
  {
   "cell_type": "code",
   "execution_count": 12,
   "metadata": {},
   "outputs": [
    {
     "name": "stdout",
     "output_type": "stream",
     "text": [
      "\r",
      "Status: [                                                                                                    ] 0.00% "
     ]
    },
    {
     "ename": "NameError",
     "evalue": "name 'path_app_info' is not defined",
     "output_type": "error",
     "traceback": [
      "\u001b[0;31m---------------------------------------------------------------------------\u001b[0m",
      "\u001b[0;31mNameError\u001b[0m                                 Traceback (most recent call last)",
      "\u001b[0;32m<ipython-input-12-b2896d04ebfb>\u001b[0m in \u001b[0;36m<module>\u001b[0;34m()\u001b[0m\n\u001b[1;32m      8\u001b[0m \u001b[0;34m\u001b[0m\u001b[0m\n\u001b[1;32m      9\u001b[0m \u001b[0;34m\u001b[0m\u001b[0m\n\u001b[0;32m---> 10\u001b[0;31m \u001b[0;32mwith\u001b[0m \u001b[0mopen\u001b[0m\u001b[0;34m(\u001b[0m\u001b[0mpath_app_info\u001b[0m\u001b[0;34m,\u001b[0m \u001b[0;34m'wb'\u001b[0m\u001b[0;34m)\u001b[0m \u001b[0;32mas\u001b[0m \u001b[0mf\u001b[0m\u001b[0;34m:\u001b[0m\u001b[0;34m\u001b[0m\u001b[0m\n\u001b[0m\u001b[1;32m     11\u001b[0m     \u001b[0;32mfor\u001b[0m \u001b[0mapp_id\u001b[0m \u001b[0;32min\u001b[0m \u001b[0mlst_app_id\u001b[0m\u001b[0;34m:\u001b[0m\u001b[0;34m\u001b[0m\u001b[0m\n\u001b[1;32m     12\u001b[0m         \u001b[0murl_app_detail\u001b[0m \u001b[0;34m=\u001b[0m \u001b[0;34m(\u001b[0m\u001b[0;34m'http://store.steampowered.com/api/appdetails?appids=%s'\u001b[0m\u001b[0;34m)\u001b[0m \u001b[0;34m%\u001b[0m \u001b[0;34m(\u001b[0m\u001b[0mapp_id\u001b[0m\u001b[0;34m)\u001b[0m\u001b[0;34m\u001b[0m\u001b[0m\n",
      "\u001b[0;31mNameError\u001b[0m: name 'path_app_info' is not defined"
     ]
    }
   ],
   "source": [
    "lst_app_id = dic_app_user.keys()\n",
    "total_count = len(lst_app_id)\n",
    "current_count = 0\n",
    "show_work_status(0, total_count, current_count)\n",
    "\n",
    "\n",
    "with open(path_app_detail, 'wb') as f:\n",
    "    for app_id in lst_app_id:\n",
    "        url_app_detail = ('http://store.steampowered.com/api/appdetails?appids=%s') % (app_id)\n",
    "        for i in range(3):\n",
    "            try:\n",
    "                r = requests.get(url_app_detail)\n",
    "                result = r.json()\n",
    "                break\n",
    "            except:\n",
    "                time.sleep(5)\n",
    "                pass\n",
    "        f.write(json.dumps(result))\n",
    "        f.write('\\n')\n",
    "        show_work_status(1, total_count, current_count)\n",
    "        current_count += 1\n",
    "        if current_count % 200 == 0:\n",
    "            time.sleep(300)\n",
    "        else:\n",
    "            time.sleep(.5)"
   ]
  },
  {
   "cell_type": "code",
   "execution_count": 14,
   "metadata": {},
   "outputs": [
    {
     "name": "stdout",
     "output_type": "stream",
     "text": [
      "Status: [>>>>>>>>>>>>>>>>>>>>>>>>>>>>>>>>>>>>>>>>>>>>>>>>>>>>>>>>>>>>>>>>>>>>>>>>>>>>>>>>>>>>>>>>>>>>>>>>>>>>] 100.00% \n",
      "\n"
     ]
    }
   ],
   "source": [
    "with open(path_app_detail, 'r') as f:\n",
    "    dic_steam_app = {'initial_price':{},'name':{},'score':{},'windows':{},'mac':{},'linux':{},'type':{},'release_date':{},'recommendation':{},'header_image':{}}\n",
    "    lst_raw_string = f.readlines()[:3000]\n",
    "    total_count = len(lst_raw_string)\n",
    "    current_count = 0\n",
    "    show_work_status(0, total_count, current_count)\n",
    "    for raw_string in lst_raw_string:\n",
    "        app_data = json.loads(raw_string).values()[0]\n",
    "        if app_data != {}:\n",
    "            steam_id = app_data.get('steam_appid')\n",
    "            initial_price = app_data.get('price_overview',{}).get('initial')\n",
    "            if app_data.get('is_free') == True:\n",
    "                initial_price = 0\n",
    "            app_name = app_data.get('name')\n",
    "            critic_score = app_data.get('metacritic', {}).get('score')\n",
    "            app_type = app_data.get('type')\n",
    "            for (platform, is_supported) in app_data.get('platforms',{}).items():\n",
    "                if is_supported == True:\n",
    "                    dic_steam_app[platform].update({steam_id:1})\n",
    "            if app_data.get('release_date',{}).get('coming_soon') == False:\n",
    "                release_date = app_data.get('release_date',{}).get('date')\n",
    "                if not release_date == '':\n",
    "                    try:\n",
    "                        release_date = datetime.strptime(release_date, '%b %d, %Y')\n",
    "                    except:\n",
    "                        try:\n",
    "                            release_date = datetime.strptime(release_date, '%d %b, %Y')\n",
    "                        except:\n",
    "                            release_date = None\n",
    "                    \n",
    "\n",
    "            recommendation = app_data.get('recommendations',{}).get('total')\n",
    "            header_image = app_data.get('header_image')\n",
    "            dic_steam_app['initial_price'].update({steam_id:initial_price})\n",
    "            dic_steam_app['name'].update({steam_id:app_name})\n",
    "            dic_steam_app['score'].update({steam_id:critic_score})\n",
    "            dic_steam_app['type'].update({steam_id:app_type})\n",
    "            dic_steam_app['release_date'].update({steam_id:release_date})\n",
    "            dic_steam_app['recommendation'].update({steam_id:recommendation})\n",
    "            dic_steam_app['header_image'].update({steam_id:header_image})\n",
    "        show_work_status(1, total_count, current_count)\n",
    "        current_count += 1"
   ]
  },
  {
   "cell_type": "code",
   "execution_count": 15,
   "metadata": {
    "collapsed": true
   },
   "outputs": [],
   "source": [
    "import pandas as pd\n",
    "df_app_info = pd.DataFrame(dic_steam_app)"
   ]
  },
  {
   "cell_type": "code",
   "execution_count": 16,
   "metadata": {},
   "outputs": [
    {
     "data": {
      "text/html": [
       "<div>\n",
       "<style>\n",
       "    .dataframe thead tr:only-child th {\n",
       "        text-align: right;\n",
       "    }\n",
       "\n",
       "    .dataframe thead th {\n",
       "        text-align: left;\n",
       "    }\n",
       "\n",
       "    .dataframe tbody tr th {\n",
       "        vertical-align: top;\n",
       "    }\n",
       "</style>\n",
       "<table border=\"1\" class=\"dataframe\">\n",
       "  <thead>\n",
       "    <tr style=\"text-align: right;\">\n",
       "      <th></th>\n",
       "      <th>header_image</th>\n",
       "      <th>initial_price</th>\n",
       "      <th>linux</th>\n",
       "      <th>mac</th>\n",
       "      <th>name</th>\n",
       "      <th>recommendation</th>\n",
       "      <th>release_date</th>\n",
       "      <th>score</th>\n",
       "      <th>type</th>\n",
       "      <th>windows</th>\n",
       "    </tr>\n",
       "  </thead>\n",
       "  <tbody>\n",
       "    <tr>\n",
       "      <th>60</th>\n",
       "      <td>http://cdn.akamai.steamstatic.com/steam/apps/6...</td>\n",
       "      <td>499</td>\n",
       "      <td>1.0</td>\n",
       "      <td>1.0</td>\n",
       "      <td>Ricochet</td>\n",
       "      <td>2109.0</td>\n",
       "      <td>2000-11-01</td>\n",
       "      <td>NaN</td>\n",
       "      <td>game</td>\n",
       "      <td>1</td>\n",
       "    </tr>\n",
       "    <tr>\n",
       "      <th>300</th>\n",
       "      <td>http://cdn.akamai.steamstatic.com/steam/apps/3...</td>\n",
       "      <td>999</td>\n",
       "      <td>1.0</td>\n",
       "      <td>1.0</td>\n",
       "      <td>Day of Defeat: Source</td>\n",
       "      <td>7753.0</td>\n",
       "      <td>2010-07-12</td>\n",
       "      <td>80.0</td>\n",
       "      <td>game</td>\n",
       "      <td>1</td>\n",
       "    </tr>\n",
       "    <tr>\n",
       "      <th>550</th>\n",
       "      <td>http://cdn.akamai.steamstatic.com/steam/apps/5...</td>\n",
       "      <td>1999</td>\n",
       "      <td>1.0</td>\n",
       "      <td>1.0</td>\n",
       "      <td>Left 4 Dead 2</td>\n",
       "      <td>159088.0</td>\n",
       "      <td>2009-11-16</td>\n",
       "      <td>89.0</td>\n",
       "      <td>game</td>\n",
       "      <td>1</td>\n",
       "    </tr>\n",
       "    <tr>\n",
       "      <th>1300</th>\n",
       "      <td>http://cdn.akamai.steamstatic.com/steam/apps/1...</td>\n",
       "      <td>999</td>\n",
       "      <td>NaN</td>\n",
       "      <td>NaN</td>\n",
       "      <td>SiN Episodes: Emergence</td>\n",
       "      <td>408.0</td>\n",
       "      <td>2006-05-10</td>\n",
       "      <td>75.0</td>\n",
       "      <td>game</td>\n",
       "      <td>1</td>\n",
       "    </tr>\n",
       "    <tr>\n",
       "      <th>1640</th>\n",
       "      <td>http://cdn.akamai.steamstatic.com/steam/apps/1...</td>\n",
       "      <td>649</td>\n",
       "      <td>NaN</td>\n",
       "      <td>NaN</td>\n",
       "      <td>Disciples II: Gallean's Return</td>\n",
       "      <td>448.0</td>\n",
       "      <td>2006-07-06</td>\n",
       "      <td>84.0</td>\n",
       "      <td>game</td>\n",
       "      <td>1</td>\n",
       "    </tr>\n",
       "  </tbody>\n",
       "</table>\n",
       "</div>"
      ],
      "text/plain": [
       "                                           header_image  initial_price  linux  \\\n",
       "60    http://cdn.akamai.steamstatic.com/steam/apps/6...            499    1.0   \n",
       "300   http://cdn.akamai.steamstatic.com/steam/apps/3...            999    1.0   \n",
       "550   http://cdn.akamai.steamstatic.com/steam/apps/5...           1999    1.0   \n",
       "1300  http://cdn.akamai.steamstatic.com/steam/apps/1...            999    NaN   \n",
       "1640  http://cdn.akamai.steamstatic.com/steam/apps/1...            649    NaN   \n",
       "\n",
       "      mac                            name  recommendation release_date  score  \\\n",
       "60    1.0                        Ricochet          2109.0   2000-11-01    NaN   \n",
       "300   1.0           Day of Defeat: Source          7753.0   2010-07-12   80.0   \n",
       "550   1.0                   Left 4 Dead 2        159088.0   2009-11-16   89.0   \n",
       "1300  NaN         SiN Episodes: Emergence           408.0   2006-05-10   75.0   \n",
       "1640  NaN  Disciples II: Gallean's Return           448.0   2006-07-06   84.0   \n",
       "\n",
       "      type  windows  \n",
       "60    game        1  \n",
       "300   game        1  \n",
       "550   game        1  \n",
       "1300  game        1  \n",
       "1640  game        1  "
      ]
     },
     "execution_count": 16,
     "metadata": {},
     "output_type": "execute_result"
    }
   ],
   "source": [
    "df_app_info.head()"
   ]
  },
  {
   "cell_type": "code",
   "execution_count": 22,
   "metadata": {
    "collapsed": true
   },
   "outputs": [],
   "source": [
    "engine = create_engine('mysql+pymysql://:@127.0.0.1/game_recommendation?charset=utf8mb4')\n",
    "df_app_info.to_sql('tbl_app_info_test',engine, if_exists='replace')"
   ]
  },
  {
   "cell_type": "code",
   "execution_count": null,
   "metadata": {
    "collapsed": true
   },
   "outputs": [],
   "source": []
  },
  {
   "cell_type": "code",
   "execution_count": null,
   "metadata": {
    "collapsed": true
   },
   "outputs": [],
   "source": []
  },
  {
   "cell_type": "code",
   "execution_count": null,
   "metadata": {
    "collapsed": true
   },
   "outputs": [],
   "source": []
  },
  {
   "cell_type": "code",
   "execution_count": null,
   "metadata": {
    "collapsed": true
   },
   "outputs": [],
   "source": []
  },
  {
   "cell_type": "code",
   "execution_count": null,
   "metadata": {
    "collapsed": true
   },
   "outputs": [],
   "source": []
  },
  {
   "cell_type": "code",
   "execution_count": null,
   "metadata": {
    "collapsed": true
   },
   "outputs": [],
   "source": []
  },
  {
   "cell_type": "code",
   "execution_count": null,
   "metadata": {
    "collapsed": true
   },
   "outputs": [],
   "source": []
  },
  {
   "cell_type": "code",
   "execution_count": null,
   "metadata": {
    "collapsed": true
   },
   "outputs": [],
   "source": []
  }
 ],
 "metadata": {
  "anaconda-cloud": {},
  "kernelspec": {
   "display_name": "Python 3",
   "language": "python",
   "name": "python3"
  },
  "language_info": {
   "codemirror_mode": {
    "name": "ipython",
    "version": 3
   },
   "file_extension": ".py",
   "mimetype": "text/x-python",
   "name": "python",
   "nbconvert_exporter": "python",
   "pygments_lexer": "ipython3",
   "version": "3.6.5"
  }
 },
 "nbformat": 4,
 "nbformat_minor": 1
}
