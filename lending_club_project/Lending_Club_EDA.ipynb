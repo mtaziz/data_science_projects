{
 "cells": [
  {
   "cell_type": "markdown",
   "metadata": {},
   "source": [
    "# Lending Club EDA"
   ]
  },
  {
   "cell_type": "code",
   "execution_count": 122,
   "metadata": {},
   "outputs": [],
   "source": [
    "import pandas as pd\n",
    "import numpy as np\n",
    "import matplotlib.pyplot as plt\n",
    "%matplotlib inline\n",
    "import seaborn as sns"
   ]
  },
  {
   "cell_type": "markdown",
   "metadata": {},
   "source": [
    "## Loan_2014 data"
   ]
  },
  {
   "cell_type": "code",
   "execution_count": 123,
   "metadata": {},
   "outputs": [
    {
     "name": "stderr",
     "output_type": "stream",
     "text": [
      "/anaconda3/lib/python3.6/site-packages/IPython/core/interactiveshell.py:2728: DtypeWarning: Columns (4,83) have mixed types. Specify dtype option on import or set low_memory=False.\n",
      "  interactivity=interactivity, compiler=compiler, result=result)\n"
     ]
    }
   ],
   "source": [
    "df = pd.read_csv('/Users/nzhang/OneDrive/Data/lending_club/FinTech_data/loan_2014.csv') "
   ]
  },
  {
   "cell_type": "code",
   "execution_count": 124,
   "metadata": {},
   "outputs": [],
   "source": [
    "cols = df.columns.values"
   ]
  },
  {
   "cell_type": "markdown",
   "metadata": {},
   "source": [
    "## Last two rows are invalid"
   ]
  },
  {
   "cell_type": "code",
   "execution_count": 125,
   "metadata": {},
   "outputs": [
    {
     "data": {
      "text/html": [
       "<div>\n",
       "<style scoped>\n",
       "    .dataframe tbody tr th:only-of-type {\n",
       "        vertical-align: middle;\n",
       "    }\n",
       "\n",
       "    .dataframe tbody tr th {\n",
       "        vertical-align: top;\n",
       "    }\n",
       "\n",
       "    .dataframe thead th {\n",
       "        text-align: right;\n",
       "    }\n",
       "</style>\n",
       "<table border=\"1\" class=\"dataframe\">\n",
       "  <thead>\n",
       "    <tr style=\"text-align: right;\">\n",
       "      <th></th>\n",
       "      <th>taxliens</th>\n",
       "      <th>totalbalexmort</th>\n",
       "      <th>maxbalbc</th>\n",
       "      <th>totcurbal</th>\n",
       "      <th>desc</th>\n",
       "      <th>revolbal</th>\n",
       "      <th>mthssincelastdelinq</th>\n",
       "      <th>mortacc</th>\n",
       "      <th>delinq2yrs</th>\n",
       "      <th>zipcode</th>\n",
       "      <th>...</th>\n",
       "      <th>intrate</th>\n",
       "      <th>openil6m</th>\n",
       "      <th>numsats</th>\n",
       "      <th>totalacc</th>\n",
       "      <th>inqlast12m</th>\n",
       "      <th>tothicredlim</th>\n",
       "      <th>openrv12m</th>\n",
       "      <th>openacc</th>\n",
       "      <th>issued</th>\n",
       "      <th>loanstatus</th>\n",
       "    </tr>\n",
       "  </thead>\n",
       "  <tbody>\n",
       "    <tr>\n",
       "      <th>235626</th>\n",
       "      <td>0.0</td>\n",
       "      <td>50896.0</td>\n",
       "      <td>NaN</td>\n",
       "      <td>591610.0</td>\n",
       "      <td>NaN</td>\n",
       "      <td>11404.0</td>\n",
       "      <td>13.0</td>\n",
       "      <td>2.0</td>\n",
       "      <td>3.0</td>\n",
       "      <td>913xx</td>\n",
       "      <td>...</td>\n",
       "      <td>7.90%</td>\n",
       "      <td>NaN</td>\n",
       "      <td>21.0</td>\n",
       "      <td>27.0</td>\n",
       "      <td>NaN</td>\n",
       "      <td>640841.0</td>\n",
       "      <td>NaN</td>\n",
       "      <td>21.0</td>\n",
       "      <td>Jan-2014</td>\n",
       "      <td>Fully Paid</td>\n",
       "    </tr>\n",
       "    <tr>\n",
       "      <th>235627</th>\n",
       "      <td>0.0</td>\n",
       "      <td>73598.0</td>\n",
       "      <td>NaN</td>\n",
       "      <td>73598.0</td>\n",
       "      <td>Borrower added on 12/06/13 &gt; I am going to c...</td>\n",
       "      <td>6688.0</td>\n",
       "      <td>65.0</td>\n",
       "      <td>3.0</td>\n",
       "      <td>0.0</td>\n",
       "      <td>458xx</td>\n",
       "      <td>...</td>\n",
       "      <td>16.99%</td>\n",
       "      <td>NaN</td>\n",
       "      <td>18.0</td>\n",
       "      <td>43.0</td>\n",
       "      <td>NaN</td>\n",
       "      <td>96582.0</td>\n",
       "      <td>NaN</td>\n",
       "      <td>18.0</td>\n",
       "      <td>Jan-2014</td>\n",
       "      <td>Current</td>\n",
       "    </tr>\n",
       "    <tr>\n",
       "      <th>235628</th>\n",
       "      <td>0.0</td>\n",
       "      <td>57477.0</td>\n",
       "      <td>NaN</td>\n",
       "      <td>57477.0</td>\n",
       "      <td>Borrower added on 12/04/13 &gt; I will like a l...</td>\n",
       "      <td>11325.0</td>\n",
       "      <td>9.0</td>\n",
       "      <td>2.0</td>\n",
       "      <td>1.0</td>\n",
       "      <td>950xx</td>\n",
       "      <td>...</td>\n",
       "      <td>19.20%</td>\n",
       "      <td>NaN</td>\n",
       "      <td>6.0</td>\n",
       "      <td>22.0</td>\n",
       "      <td>NaN</td>\n",
       "      <td>81470.0</td>\n",
       "      <td>NaN</td>\n",
       "      <td>6.0</td>\n",
       "      <td>Jan-2014</td>\n",
       "      <td>Fully Paid</td>\n",
       "    </tr>\n",
       "    <tr>\n",
       "      <th>235629</th>\n",
       "      <td>NaN</td>\n",
       "      <td>NaN</td>\n",
       "      <td>NaN</td>\n",
       "      <td>NaN</td>\n",
       "      <td>NaN</td>\n",
       "      <td>NaN</td>\n",
       "      <td>NaN</td>\n",
       "      <td>NaN</td>\n",
       "      <td>NaN</td>\n",
       "      <td>NaN</td>\n",
       "      <td>...</td>\n",
       "      <td>NaN</td>\n",
       "      <td>NaN</td>\n",
       "      <td>NaN</td>\n",
       "      <td>NaN</td>\n",
       "      <td>NaN</td>\n",
       "      <td>NaN</td>\n",
       "      <td>NaN</td>\n",
       "      <td>NaN</td>\n",
       "      <td>NaN</td>\n",
       "      <td>NaN</td>\n",
       "    </tr>\n",
       "    <tr>\n",
       "      <th>235630</th>\n",
       "      <td>NaN</td>\n",
       "      <td>NaN</td>\n",
       "      <td>NaN</td>\n",
       "      <td>NaN</td>\n",
       "      <td>NaN</td>\n",
       "      <td>NaN</td>\n",
       "      <td>NaN</td>\n",
       "      <td>NaN</td>\n",
       "      <td>NaN</td>\n",
       "      <td>NaN</td>\n",
       "      <td>...</td>\n",
       "      <td>NaN</td>\n",
       "      <td>NaN</td>\n",
       "      <td>NaN</td>\n",
       "      <td>NaN</td>\n",
       "      <td>NaN</td>\n",
       "      <td>NaN</td>\n",
       "      <td>NaN</td>\n",
       "      <td>NaN</td>\n",
       "      <td>NaN</td>\n",
       "      <td>NaN</td>\n",
       "    </tr>\n",
       "  </tbody>\n",
       "</table>\n",
       "<p>5 rows × 95 columns</p>\n",
       "</div>"
      ],
      "text/plain": [
       "        taxliens  totalbalexmort  maxbalbc  totcurbal  \\\n",
       "235626       0.0         50896.0       NaN   591610.0   \n",
       "235627       0.0         73598.0       NaN    73598.0   \n",
       "235628       0.0         57477.0       NaN    57477.0   \n",
       "235629       NaN             NaN       NaN        NaN   \n",
       "235630       NaN             NaN       NaN        NaN   \n",
       "\n",
       "                                                     desc  revolbal  \\\n",
       "235626                                                NaN   11404.0   \n",
       "235627    Borrower added on 12/06/13 > I am going to c...    6688.0   \n",
       "235628    Borrower added on 12/04/13 > I will like a l...   11325.0   \n",
       "235629                                                NaN       NaN   \n",
       "235630                                                NaN       NaN   \n",
       "\n",
       "        mthssincelastdelinq  mortacc  delinq2yrs zipcode     ...      intrate  \\\n",
       "235626                 13.0      2.0         3.0   913xx     ...        7.90%   \n",
       "235627                 65.0      3.0         0.0   458xx     ...       16.99%   \n",
       "235628                  9.0      2.0         1.0   950xx     ...       19.20%   \n",
       "235629                  NaN      NaN         NaN     NaN     ...          NaN   \n",
       "235630                  NaN      NaN         NaN     NaN     ...          NaN   \n",
       "\n",
       "        openil6m  numsats  totalacc inqlast12m  tothicredlim  openrv12m  \\\n",
       "235626       NaN     21.0      27.0        NaN      640841.0        NaN   \n",
       "235627       NaN     18.0      43.0        NaN       96582.0        NaN   \n",
       "235628       NaN      6.0      22.0        NaN       81470.0        NaN   \n",
       "235629       NaN      NaN       NaN        NaN           NaN        NaN   \n",
       "235630       NaN      NaN       NaN        NaN           NaN        NaN   \n",
       "\n",
       "       openacc    issued  loanstatus  \n",
       "235626    21.0  Jan-2014  Fully Paid  \n",
       "235627    18.0  Jan-2014     Current  \n",
       "235628     6.0  Jan-2014  Fully Paid  \n",
       "235629     NaN       NaN         NaN  \n",
       "235630     NaN       NaN         NaN  \n",
       "\n",
       "[5 rows x 95 columns]"
      ]
     },
     "execution_count": 125,
     "metadata": {},
     "output_type": "execute_result"
    }
   ],
   "source": [
    "df.tail()"
   ]
  },
  {
   "cell_type": "markdown",
   "metadata": {},
   "source": [
    "## 19 object, 76 numeric (but 18 of them are all Nulls, 13 of them have Nulls)"
   ]
  },
  {
   "cell_type": "code",
   "execution_count": 126,
   "metadata": {},
   "outputs": [
    {
     "name": "stdout",
     "output_type": "stream",
     "text": [
      "<class 'pandas.core.frame.DataFrame'>\n",
      "RangeIndex: 235631 entries, 0 to 235630\n",
      "Data columns (total 95 columns):\n",
      "taxliens                      235629 non-null float64\n",
      "totalbalexmort                235629 non-null float64\n",
      "maxbalbc                      0 non-null float64\n",
      "totcurbal                     235629 non-null float64\n",
      "desc                          15279 non-null object\n",
      "revolbal                      235629 non-null float64\n",
      "mthssincelastdelinq           119748 non-null float64\n",
      "mortacc                       235629 non-null float64\n",
      "delinq2yrs                    235629 non-null float64\n",
      "zipcode                       235629 non-null object\n",
      "mosinoldrevtlop               235629 non-null float64\n",
      "mthssincelastmajorderog       66478 non-null float64\n",
      "openil12m                     0 non-null float64\n",
      "numbctl                       235629 non-null float64\n",
      "term                          235629 non-null object\n",
      "pubrec                        235629 non-null float64\n",
      "bcutil                        233018 non-null float64\n",
      "grade                         235629 non-null object\n",
      "numiltl                       235629 non-null float64\n",
      "totcollamt                    235629 non-null float64\n",
      "pcttlnvrdlq                   235629 non-null float64\n",
      "addrstate                     235629 non-null object\n",
      "totalrevhilim                 235629 non-null float64\n",
      "numactvbctl                   235629 non-null float64\n",
      "numtl120dpd2m                 227769 non-null float64\n",
      "mthssincelastrecord           41524 non-null float64\n",
      "ficorangehigh                 235629 non-null float64\n",
      "mosinrcnttl                   235629 non-null float64\n",
      "numactvrevtl                  235629 non-null float64\n",
      "percentbcgt75                 233072 non-null float64\n",
      "collections12mthsexmed        235629 non-null float64\n",
      "totalilhighcreditlimit        235629 non-null float64\n",
      "accnowdelinq                  235629 non-null float64\n",
      "totalbalil                    0 non-null float64\n",
      "numrevtlbalgt0                235629 non-null float64\n",
      "verificationstatusjoint       0 non-null float64\n",
      "allutil                       0 non-null float64\n",
      "avgcurbal                     235623 non-null float64\n",
      "subgrade                      235629 non-null object\n",
      "annualinc                     235629 non-null float64\n",
      "mthssincercntil               0 non-null float64\n",
      "revolutil                     235504 non-null object\n",
      "delinqamnt                    235629 non-null float64\n",
      "totalcutl                     0 non-null float64\n",
      "mthssincerecentinq            213937 non-null float64\n",
      "numrevaccts                   235629 non-null float64\n",
      "bcopentobuy                   233184 non-null float64\n",
      "applicationtype               235629 non-null object\n",
      "numbcsats                     235629 non-null float64\n",
      "ilutil                        0 non-null float64\n",
      "pubrecbankruptcies            235629 non-null float64\n",
      "accopenpast24mths             235629 non-null float64\n",
      "totalbclimit                  235629 non-null float64\n",
      "homeownership                 235629 non-null object\n",
      "fundedamnt                    235629 non-null float64\n",
      "installment                   235629 non-null float64\n",
      "purpose                       235629 non-null object\n",
      "initialliststatus             235629 non-null object\n",
      "mthssincerecentbcdlq          62281 non-null float64\n",
      "earliestcrline                235629 non-null object\n",
      "annualincjoint                0 non-null float64\n",
      "numtl30dpd                    235629 non-null float64\n",
      "memberid                      0 non-null float64\n",
      "openacc6m                     0 non-null float64\n",
      "numtloppast12m                235629 non-null float64\n",
      "mosinoldilacct                228458 non-null float64\n",
      "emplength                     223610 non-null object\n",
      "openrv24m                     0 non-null float64\n",
      "loanamnt                      235629 non-null float64\n",
      "dti                           235629 non-null float64\n",
      "chargeoffwithin12mths         235629 non-null float64\n",
      "inqfi                         0 non-null float64\n",
      "openil24m                     0 non-null float64\n",
      "inqlast6mths                  235629 non-null float64\n",
      "mthssincerecentbc             233383 non-null float64\n",
      "dtijoint                      0 non-null float64\n",
      "numacctsever120pd             235629 non-null float64\n",
      "mosinrcntrevtlop              235629 non-null float64\n",
      "verificationstatus            235629 non-null object\n",
      "emptitle                      222393 non-null object\n",
      "mthssincerecentrevoldelinq    84766 non-null float64\n",
      "numoprevtl                    235629 non-null float64\n",
      "ficorangelow                  235629 non-null float64\n",
      "id                            235631 non-null object\n",
      "numtl90gdpd24m                235629 non-null float64\n",
      "intrate                       235629 non-null object\n",
      "openil6m                      0 non-null float64\n",
      "numsats                       235629 non-null float64\n",
      "totalacc                      235629 non-null float64\n",
      "inqlast12m                    0 non-null float64\n",
      "tothicredlim                  235629 non-null float64\n",
      "openrv12m                     0 non-null float64\n",
      "openacc                       235629 non-null float64\n",
      "issued                        235629 non-null object\n",
      "loanstatus                    235629 non-null object\n",
      "dtypes: float64(76), object(19)\n",
      "memory usage: 170.8+ MB\n"
     ]
    }
   ],
   "source": [
    "df.info()"
   ]
  },
  {
   "cell_type": "markdown",
   "metadata": {},
   "source": [
    "## Find all_null_feature, num_feature, ob_feature"
   ]
  },
  {
   "cell_type": "code",
   "execution_count": 127,
   "metadata": {
    "scrolled": true
   },
   "outputs": [],
   "source": [
    "all_null_feature=[]\n",
    "num_feature=[]\n",
    "ob_feature=[]\n",
    "for col in cols:\n",
    "    if df[col].isnull().sum()==df.shape[0]:\n",
    "        all_null_feature.append(col)\n",
    "    else:\n",
    "        if df[col].dtype == 'object':\n",
    "            ob_feature.append(col)\n",
    "        else:\n",
    "            num_feature.append(col)\n",
    "    "
   ]
  },
  {
   "cell_type": "code",
   "execution_count": 128,
   "metadata": {},
   "outputs": [
    {
     "name": "stdout",
     "output_type": "stream",
     "text": [
      "58 19\n",
      "18\n"
     ]
    }
   ],
   "source": [
    "print(len(num_feature), len(ob_feature))\n",
    "print(len(all_null_feature))"
   ]
  },
  {
   "cell_type": "code",
   "execution_count": 129,
   "metadata": {},
   "outputs": [
    {
     "data": {
      "text/plain": [
       "['maxbalbc',\n",
       " 'openil12m',\n",
       " 'totalbalil',\n",
       " 'verificationstatusjoint',\n",
       " 'allutil',\n",
       " 'mthssincercntil',\n",
       " 'totalcutl',\n",
       " 'ilutil',\n",
       " 'annualincjoint',\n",
       " 'memberid',\n",
       " 'openacc6m',\n",
       " 'openrv24m',\n",
       " 'inqfi',\n",
       " 'openil24m',\n",
       " 'dtijoint',\n",
       " 'openil6m',\n",
       " 'inqlast12m',\n",
       " 'openrv12m']"
      ]
     },
     "execution_count": 129,
     "metadata": {},
     "output_type": "execute_result"
    }
   ],
   "source": [
    "all_null_feature"
   ]
  },
  {
   "cell_type": "code",
   "execution_count": 130,
   "metadata": {
    "scrolled": true
   },
   "outputs": [
    {
     "data": {
      "text/plain": [
       "['desc',\n",
       " 'zipcode',\n",
       " 'term',\n",
       " 'grade',\n",
       " 'addrstate',\n",
       " 'subgrade',\n",
       " 'revolutil',\n",
       " 'applicationtype',\n",
       " 'homeownership',\n",
       " 'purpose',\n",
       " 'initialliststatus',\n",
       " 'earliestcrline',\n",
       " 'emplength',\n",
       " 'verificationstatus',\n",
       " 'emptitle',\n",
       " 'id',\n",
       " 'intrate',\n",
       " 'issued',\n",
       " 'loanstatus']"
      ]
     },
     "execution_count": 130,
     "metadata": {},
     "output_type": "execute_result"
    }
   ],
   "source": [
    "ob_feature"
   ]
  },
  {
   "cell_type": "code",
   "execution_count": 131,
   "metadata": {},
   "outputs": [
    {
     "name": "stdout",
     "output_type": "stream",
     "text": [
      "desc\n"
     ]
    }
   ],
   "source": [
    "i=0\n",
    "feat = ob_feature[i]\n",
    "print(feat)"
   ]
  },
  {
   "cell_type": "code",
   "execution_count": 132,
   "metadata": {},
   "outputs": [
    {
     "name": "stdout",
     "output_type": "stream",
     "text": [
      "220352\n"
     ]
    },
    {
     "data": {
      "text/plain": [
       "  Borrower added on 03/17/14 > Debt consolidation<br>                                                                                                                                                                                                                                                                                             11\n",
       "  Borrower added on 03/10/14 > Debt consolidation<br>                                                                                                                                                                                                                                                                                             10\n",
       "  Borrower added on 02/19/14 > Debt consolidation<br>                                                                                                                                                                                                                                                                                              9\n",
       "  Borrower added on 01/29/14 > Debt consolidation<br>                                                                                                                                                                                                                                                                                              8\n",
       "  Borrower added on 01/15/14 > Debt consolidation<br>                                                                                                                                                                                                                                                                                              7\n",
       "  Borrower added on 01/22/14 > Debt consolidation<br>                                                                                                                                                                                                                                                                                              7\n",
       "  Borrower added on 02/26/14 > Debt Consolidation<br>                                                                                                                                                                                                                                                                                              6\n",
       "  Borrower added on 02/19/14 > Debt Consolidation<br>                                                                                                                                                                                                                                                                                              6\n",
       "  Borrower added on 03/03/14 > Debt consolidation<br>                                                                                                                                                                                                                                                                                              6\n",
       "  Borrower added on 01/06/14 > Debt consolidation<br>                                                                                                                                                                                                                                                                                              6\n",
       "  Borrower added on 02/03/14 > Debt consolidation<br>                                                                                                                                                                                                                                                                                              6\n",
       "  Borrower added on 03/07/14 > Debt consolidation<br>                                                                                                                                                                                                                                                                                              6\n",
       "  Borrower added on 03/18/14 > Debt consolidation<br>                                                                                                                                                                                                                                                                                              6\n",
       "  Borrower added on 01/03/14 > Debt consolidation<br>                                                                                                                                                                                                                                                                                              6\n",
       "  Borrower added on 03/05/14 > debt consolidation<br>                                                                                                                                                                                                                                                                                              6\n",
       "  Borrower added on 03/14/14 > Debt consolidation<br>                                                                                                                                                                                                                                                                                              6\n",
       "  Borrower added on 01/27/14 > Debt consolidation<br>                                                                                                                                                                                                                                                                                              6\n",
       "  Borrower added on 02/06/14 > Debt consolidation<br>                                                                                                                                                                                                                                                                                              6\n",
       "  Borrower added on 03/05/14 > Debt consolidation<br>                                                                                                                                                                                                                                                                                              5\n",
       "  Borrower added on 02/04/14 > Debt consolidation<br>                                                                                                                                                                                                                                                                                              5\n",
       "                                                                                                                                                                                                                                                                                                                                                   5\n",
       "  Borrower added on 02/06/14 > debt consolidation<br>                                                                                                                                                                                                                                                                                              5\n",
       "  Borrower added on 02/20/14 > Debt consolidation<br>                                                                                                                                                                                                                                                                                              5\n",
       "  Borrower added on 01/07/14 > Debt consolidation<br>                                                                                                                                                                                                                                                                                              5\n",
       "  Borrower added on 03/13/14 > Debt consolidation<br>                                                                                                                                                                                                                                                                                              5\n",
       "  Borrower added on 01/21/14 > Debt consolidation<br>                                                                                                                                                                                                                                                                                              5\n",
       "  Borrower added on 01/17/14 > Debt consolidation<br>                                                                                                                                                                                                                                                                                              5\n",
       "  Borrower added on 02/05/14 > Debt consolidation<br>                                                                                                                                                                                                                                                                                              5\n",
       "  Borrower added on 02/25/14 > Debt consolidation.<br>                                                                                                                                                                                                                                                                                             5\n",
       "  Borrower added on 02/25/14 > Debt consolidation<br>                                                                                                                                                                                                                                                                                              5\n",
       "                                                                                                                                                                                                                                                                                                                                                  ..\n",
       "  Borrower added on 01/14/14 > TO PAY OFF HIGH INTEREST CREDIT CARDS<br>                                                                                                                                                                                                                                                                           1\n",
       "  Borrower added on 02/26/14 > This is a debt consolidation because I'm having extra expenses from a root canal, prescription drug price increase and the unexpected death of my mother, I can pay my bills but it is hard.  I have never missed a credit card or loan payment, I pay my bills the day I get them, I would appreciate this<br>     1\n",
       "  Borrower added on 02/18/14 > Debt Consolidation of high interest credit cards and loans<br><br>  Borrower added on 02/18/14 > Working on becoming debt free. Can't reach that goal with high interest credit cards.  Moving foreword with lower interest loan will exponentially assist.<br>                                                     1\n",
       "  Borrower added on 01/15/14 > to consolidate<br>                                                                                                                                                                                                                                                                                                  1\n",
       "  Borrower added on 03/11/14 > Main purpose is to consolidate and payoff credit cards.  My car will be paid off in 1.5 years then I will have this loan paid off next leaving me almost debt free.<br>                                                                                                                                             1\n",
       "  Borrower added on 01/17/14 > This loan will be used to consolidate high interest credit card debt and to create a fixed payment with a pay-off schedule.<br>                                                                                                                                                                                     1\n",
       "  Borrower added on 01/14/14 > Over the past two years I had some major life changes that lead to me having to use my credit cards to make ends meet.  I am now trying to responsibly consolidate my debt at a lower interest rate.  I have never missed a payment, on any account I hold, and have a both lucrative and steady career.<br>        1\n",
       "  Borrower added on 02/20/14 > Consolidating credit card debt largely due to new homeownership. I've been with my job for four years. I've successfully paid back two Lending Club loans already. :)<br>                                                                                                                                           1\n",
       "  Borrower added on 02/01/14 > Refinance debt<br>                                                                                                                                                                                                                                                                                                  1\n",
       "  Borrower added on 02/28/14 > This loan is to pay off my existing lending club loan and one additional medical bill. I would like to consolidate the two with a slightly lower payment.<br>                                                                                                                                                       1\n",
       "  Borrower added on 03/14/14 > My loan is to pay down high interest credit cards faster and save more money for my family!!!<br>                                                                                                                                                                                                                   1\n",
       "  Borrower added on 02/11/14 > What I am doing is consolidating some debt along with doing some home repairs.<br>                                                                                                                                                                                                                                  1\n",
       "  Borrower added on 12/31/13 > Pay off credit cards and only have one payment<br>                                                                                                                                                                                                                                                                  1\n",
       "  Borrower added on 01/23/14 > this loan will be used to pay off 4 credit cards,home depot,rooms to go to bring my current debt to zero with the exception of this new loan. repayment should be prior to the 36 month allowed.<br>                                                                                                                1\n",
       "  Borrower added on 01/19/14 > Dept Consolidation<br>                                                                                                                                                                                                                                                                                              1\n",
       "  Borrower added on 01/06/14 > To pay off credit card debt<br>                                                                                                                                                                                                                                                                                     1\n",
       "  Borrower added on 03/13/14 > I made a New Year Resolution to simplify my life and irradicate my personal debt. The purpose of the loan is to eliminate high interest credit card debt. I know it's going to take a several years to get rid of my debt, but I realize I need to begin somewhere.<br>                                             1\n",
       "  Borrower added on 02/26/14 > I am working to consolidate my credit card debt and improve my credit rating.<br>                                                                                                                                                                                                                                   1\n",
       "  Borrower added on 03/03/14 > to pay off credit cards, consolidate<br>                                                                                                                                                                                                                                                                            1\n",
       "  Borrower added on 02/17/14 > My loan will be used to consolidate credit card debt so that we can make some needed home repairs.<br>                                                                                                                                                                                                              1\n",
       "  Borrower added on 01/19/14 > CURRENTLY I HOLD THE LOAN WITH THE LENDING CLUB I HAVE SEVERAL OTHER CREDIT CARDS THAT I WOULD LIKE TO CONSOLIDATE CHASE/ CITI/ BARCLAYS<br>                                                                                                                                                                        1\n",
       "  Borrower added on 03/16/14 > Remodel bathroom for our kids that is falling apart and put up wood fence for the safety of our kids<br>                                                                                                                                                                                                            1\n",
       "  Borrower added on 03/12/14 > The loan is for a motorcycle for cheaper transportation<br><br>  Borrower added on 03/13/14 > Purchasing this motorcycle will save me an average of sixty-two dollars a week<br>                                                                                                                                    1\n",
       "  Borrower added on 03/08/14 > Consolidate amount owed on credit cards<br>                                                                                                                                                                                                                                                                         1\n",
       "  Borrower added on 01/17/14 > Consolidate higher interest credit card debt.<br>                                                                                                                                                                                                                                                                   1\n",
       "  Borrower added on 02/17/14 > Consolidate debts and clear existing personal loan at  a much higher rate.<br>                                                                                                                                                                                                                                      1\n",
       "  Borrower added on 01/03/14 > I would like to fix my car, consolidate my other bills and vacation.<br>                                                                                                                                                                                                                                            1\n",
       "  Borrower added on 02/19/14 > my loan is to consolidate credit card payments so that I can live comfortable again paying these other bills off will be great.<br>                                                                                                                                                                                 1\n",
       "  Borrower added on 03/12/14 > pay down high interest rate credit cards.<br>                                                                                                                                                                                                                                                                       1\n",
       "  Borrower added on 01/21/14 > my vehicle needs a transmission approximate cost is $3000.<br><br> Borrower added on 01/21/14 > to get my vehicle transmission and approximate cost is $3000.<br><br> Borrower added on 01/21/14 > my vehicle needs transmission and approximate cost is $3000<br>                                                  1\n",
       "Name: desc, Length: 14843, dtype: int64"
      ]
     },
     "execution_count": 132,
     "metadata": {},
     "output_type": "execute_result"
    }
   ],
   "source": [
    "print(df[feat].isnull().sum())\n",
    "df[feat].value_counts()"
   ]
  },
  {
   "cell_type": "code",
   "execution_count": 133,
   "metadata": {
    "scrolled": true
   },
   "outputs": [
    {
     "name": "stdout",
     "output_type": "stream",
     "text": [
      "zipcode\n",
      "2\n"
     ]
    },
    {
     "data": {
      "text/plain": [
       "750xx    2546\n",
       "945xx    2418\n",
       "112xx    2382\n",
       "606xx    2273\n",
       "300xx    2085\n",
       "070xx    1936\n",
       "331xx    1929\n",
       "100xx    1912\n",
       "770xx    1795\n",
       "900xx    1787\n",
       "117xx    1700\n",
       "917xx    1685\n",
       "104xx    1654\n",
       "891xx    1635\n",
       "330xx    1606\n",
       "852xx    1528\n",
       "921xx    1427\n",
       "913xx    1391\n",
       "926xx    1355\n",
       "925xx    1315\n",
       "604xx    1272\n",
       "080xx    1267\n",
       "600xx    1250\n",
       "601xx    1242\n",
       "481xx    1235\n",
       "334xx    1230\n",
       "113xx    1218\n",
       "853xx    1135\n",
       "956xx    1114\n",
       "920xx    1106\n",
       "         ... \n",
       "889xx       1\n",
       "833xx       1\n",
       "901xx       1\n",
       "511xx       1\n",
       "513xx       1\n",
       "821xx       1\n",
       "682xx       1\n",
       "008xx       1\n",
       "353xx       1\n",
       "888xx       1\n",
       "500xx       1\n",
       "527xx       1\n",
       "093xx       1\n",
       "680xx       1\n",
       "909xx       1\n",
       "685xx       1\n",
       "663xx       1\n",
       "516xx       1\n",
       "854xx       1\n",
       "929xx       1\n",
       "861xx       1\n",
       "832xx       1\n",
       "938xx       1\n",
       "429xx       1\n",
       "836xx       1\n",
       "587xx       1\n",
       "523xx       1\n",
       "524xx       1\n",
       "582xx       1\n",
       "510xx       1\n",
       "Name: zipcode, Length: 866, dtype: int64"
      ]
     },
     "execution_count": 133,
     "metadata": {},
     "output_type": "execute_result"
    }
   ],
   "source": [
    "i=1\n",
    "feat = ob_feature[i]\n",
    "print(feat)\n",
    "print(df[feat].isnull().sum())\n",
    "df[feat].value_counts()"
   ]
  },
  {
   "cell_type": "code",
   "execution_count": 134,
   "metadata": {},
   "outputs": [
    {
     "name": "stdout",
     "output_type": "stream",
     "text": [
      "term\n",
      "2\n"
     ]
    },
    {
     "data": {
      "text/plain": [
       " 36 months    162570\n",
       " 60 months     73059\n",
       "Name: term, dtype: int64"
      ]
     },
     "execution_count": 134,
     "metadata": {},
     "output_type": "execute_result"
    }
   ],
   "source": [
    "i=2\n",
    "feat = ob_feature[i]\n",
    "print(feat)\n",
    "print(df[feat].isnull().sum())\n",
    "df[feat].value_counts()"
   ]
  },
  {
   "cell_type": "code",
   "execution_count": 135,
   "metadata": {
    "scrolled": true
   },
   "outputs": [
    {
     "name": "stdout",
     "output_type": "stream",
     "text": [
      "grade\n",
      "2\n"
     ]
    },
    {
     "data": {
      "text/plain": [
       "C    66565\n",
       "B    61935\n",
       "D    42992\n",
       "A    36108\n",
       "E    20121\n",
       "F     6223\n",
       "G     1685\n",
       "Name: grade, dtype: int64"
      ]
     },
     "execution_count": 135,
     "metadata": {},
     "output_type": "execute_result"
    }
   ],
   "source": [
    "# date format, convert to time difference, eg, months to 2015 and thus is a numeric feature\n",
    "i=3\n",
    "feat = ob_feature[i]\n",
    "print(feat)\n",
    "print(df[feat].isnull().sum())\n",
    "df[feat].value_counts()"
   ]
  },
  {
   "cell_type": "code",
   "execution_count": 136,
   "metadata": {},
   "outputs": [
    {
     "name": "stdout",
     "output_type": "stream",
     "text": [
      "addrstate\n",
      "2\n"
     ]
    },
    {
     "data": {
      "text/plain": [
       "CA    33288\n",
       "NY    19923\n",
       "TX    18967\n",
       "FL    15691\n",
       "IL     9628\n",
       "NJ     8863\n",
       "PA     8427\n",
       "OH     8011\n",
       "GA     7600\n",
       "VA     6965\n",
       "NC     6442\n",
       "MI     6205\n",
       "MD     5564\n",
       "AZ     5507\n",
       "MA     5232\n",
       "WA     5118\n",
       "CO     4929\n",
       "MN     4276\n",
       "IN     4206\n",
       "TN     3907\n",
       "MO     3788\n",
       "CT     3483\n",
       "NV     3225\n",
       "WI     3101\n",
       "AL     3034\n",
       "SC     2971\n",
       "OR     2912\n",
       "LA     2761\n",
       "KY     2379\n",
       "OK     2118\n",
       "KS     2103\n",
       "AR     1806\n",
       "UT     1669\n",
       "NM     1367\n",
       "WV     1311\n",
       "MS     1197\n",
       "HI     1196\n",
       "NH     1155\n",
       "RI     1043\n",
       "MT      731\n",
       "DE      661\n",
       "DC      637\n",
       "AK      598\n",
       "WY      583\n",
       "VT      542\n",
       "SD      506\n",
       "IA        1\n",
       "ME        1\n",
       "ID        1\n",
       "Name: addrstate, dtype: int64"
      ]
     },
     "execution_count": 136,
     "metadata": {},
     "output_type": "execute_result"
    }
   ],
   "source": [
    "# all \"individual\", that is the reason for all join-stuff are NA\n",
    "i=4\n",
    "feat = ob_feature[i]\n",
    "print(feat)\n",
    "print(df[feat].isnull().sum())\n",
    "df[feat].value_counts()"
   ]
  },
  {
   "cell_type": "code",
   "execution_count": 137,
   "metadata": {
    "scrolled": true
   },
   "outputs": [
    {
     "name": "stdout",
     "output_type": "stream",
     "text": [
      "subgrade\n",
      "2\n"
     ]
    },
    {
     "data": {
      "text/plain": [
       "C2    13965\n",
       "C3    13794\n",
       "C1    13498\n",
       "B4    13475\n",
       "B5    13309\n",
       "C4    13093\n",
       "B3    13075\n",
       "C5    12215\n",
       "B2    11439\n",
       "D1    10880\n",
       "A5    10761\n",
       "B1    10637\n",
       "D2     9544\n",
       "A4     9124\n",
       "D3     8487\n",
       "D4     7881\n",
       "D5     6200\n",
       "A3     5842\n",
       "E1     5589\n",
       "A2     5234\n",
       "A1     5147\n",
       "E2     4831\n",
       "E3     3902\n",
       "E4     3101\n",
       "E5     2698\n",
       "F1     1935\n",
       "F2     1355\n",
       "F3     1321\n",
       "F4      964\n",
       "F5      648\n",
       "G1      527\n",
       "G2      427\n",
       "G3      305\n",
       "G4      214\n",
       "G5      212\n",
       "Name: subgrade, dtype: int64"
      ]
     },
     "execution_count": 137,
     "metadata": {},
     "output_type": "execute_result"
    }
   ],
   "source": [
    "i=5\n",
    "feat = ob_feature[i]\n",
    "print(feat)\n",
    "print(df[feat].isnull().sum())\n",
    "df[feat].value_counts()"
   ]
  },
  {
   "cell_type": "code",
   "execution_count": 138,
   "metadata": {},
   "outputs": [
    {
     "name": "stdout",
     "output_type": "stream",
     "text": [
      "revolutil\n",
      "127\n"
     ]
    },
    {
     "data": {
      "text/plain": [
       "0%        590\n",
       "59%       520\n",
       "58%       515\n",
       "53%       512\n",
       "48%       485\n",
       "50%       483\n",
       "55%       479\n",
       "54%       472\n",
       "57%       472\n",
       "46%       471\n",
       "52%       467\n",
       "62%       466\n",
       "61%       466\n",
       "47%       462\n",
       "51%       457\n",
       "60%       451\n",
       "67%       450\n",
       "65%       442\n",
       "49%       441\n",
       "63%       441\n",
       "64%       438\n",
       "40%       436\n",
       "66%       429\n",
       "68%       428\n",
       "56%       428\n",
       "43%       428\n",
       "44%       423\n",
       "69%       422\n",
       "41%       421\n",
       "45%       416\n",
       "         ... \n",
       "112%        1\n",
       "106.7%      1\n",
       "113.6%      1\n",
       "111.4%      1\n",
       "123.9%      1\n",
       "118.9%      1\n",
       "148%        1\n",
       "116.8%      1\n",
       "104%        1\n",
       "125.8%      1\n",
       "125.6%      1\n",
       "109.2%      1\n",
       "134.5%      1\n",
       "129.4%      1\n",
       "105.4%      1\n",
       "146.1%      1\n",
       "109.5%      1\n",
       "110.5%      1\n",
       "892.3%      1\n",
       "114%        1\n",
       "122.2%      1\n",
       "177.7%      1\n",
       "153%        1\n",
       "121.1%      1\n",
       "119.8%      1\n",
       "118.2%      1\n",
       "110.1%      1\n",
       "113.3%      1\n",
       "108.2%      1\n",
       "117.5%      1\n",
       "Name: revolutil, Length: 1160, dtype: int64"
      ]
     },
     "execution_count": 138,
     "metadata": {},
     "output_type": "execute_result"
    }
   ],
   "source": [
    "# only 15279 not null values, and involv NLP. simply drop it, or make it classify them to null and not_null, short v.s. long\n",
    "# this part might be quite similar to the purpose feature, which is quite important.\n",
    "\n",
    "i=6\n",
    "feat = ob_feature[i]\n",
    "print(feat)\n",
    "print(df[feat].isnull().sum())\n",
    "df[feat].value_counts()"
   ]
  },
  {
   "cell_type": "code",
   "execution_count": 139,
   "metadata": {},
   "outputs": [
    {
     "name": "stdout",
     "output_type": "stream",
     "text": [
      "applicationtype\n",
      "2\n",
      " 36 months    0.689941\n",
      " 60 months    0.310059\n",
      "Name: term, dtype: float64\n"
     ]
    },
    {
     "data": {
      "text/plain": [
       "INDIVIDUAL    235629\n",
       "Name: applicationtype, dtype: int64"
      ]
     },
     "execution_count": 139,
     "metadata": {},
     "output_type": "execute_result"
    }
   ],
   "source": [
    "# only use 36 months data for our project\n",
    "i=7\n",
    "feat = ob_feature[i]\n",
    "print(feat)\n",
    "print(df[feat].isnull().sum())\n",
    "print(df.term.value_counts(normalize=True))\n",
    "df[feat].value_counts()"
   ]
  },
  {
   "cell_type": "code",
   "execution_count": 140,
   "metadata": {},
   "outputs": [
    {
     "name": "stdout",
     "output_type": "stream",
     "text": [
      "homeownership\n",
      "2\n"
     ]
    },
    {
     "data": {
      "text/plain": [
       "MORTGAGE    119937\n",
       "RENT         92684\n",
       "OWN          23007\n",
       "ANY              1\n",
       "Name: homeownership, dtype: int64"
      ]
     },
     "execution_count": 140,
     "metadata": {},
     "output_type": "execute_result"
    }
   ],
   "source": [
    "# one hot encoding, but ignore the 1 data point ANY?\n",
    "i=8\n",
    "feat = ob_feature[i]\n",
    "print(feat)\n",
    "print(df[feat].isnull().sum())\n",
    "df[feat].value_counts()"
   ]
  },
  {
   "cell_type": "code",
   "execution_count": 141,
   "metadata": {
    "scrolled": true
   },
   "outputs": [
    {
     "name": "stdout",
     "output_type": "stream",
     "text": [
      "purpose\n",
      "2\n",
      "13 debt_consolidation    143006\n",
      "credit_card            55522\n",
      "home_improvement       13045\n",
      "other                  10371\n",
      "major_purchase          3858\n",
      "medical                 2331\n",
      "small_business          2277\n",
      "car                     1832\n",
      "moving                  1328\n",
      "vacation                1178\n",
      "house                    750\n",
      "renewable_energy         123\n",
      "wedding                    8\n",
      "Name: purpose, dtype: int64\n"
     ]
    }
   ],
   "source": [
    "# 49 states, can generate frequency and leave-one-out encoding\n",
    "i=9\n",
    "feat = ob_feature[i]\n",
    "print(feat)\n",
    "print(df[feat].isnull().sum())\n",
    "print(len(df[feat].value_counts()), df[feat].value_counts())"
   ]
  },
  {
   "cell_type": "code",
   "execution_count": 142,
   "metadata": {
    "scrolled": true
   },
   "outputs": [
    {
     "name": "stdout",
     "output_type": "stream",
     "text": [
      "initialliststatus\n",
      "2\n",
      "2 w    123473\n",
      "f    112156\n",
      "Name: initialliststatus, dtype: int64\n"
     ]
    }
   ],
   "source": [
    "i=10\n",
    "feat = ob_feature[i]\n",
    "print(feat)\n",
    "print(df[feat].isnull().sum())\n",
    "print(len(df[feat].value_counts()), df[feat].value_counts())"
   ]
  },
  {
   "cell_type": "code",
   "execution_count": 143,
   "metadata": {},
   "outputs": [
    {
     "name": "stdout",
     "output_type": "stream",
     "text": [
      "earliestcrline\n",
      "2\n",
      "638\n"
     ]
    }
   ],
   "source": [
    "i=11\n",
    "feat = ob_feature[i]\n",
    "print(feat)\n",
    "print(df[feat].isnull().sum())\n",
    "print(len(df[feat].value_counts())) #, df[feat].value_counts()"
   ]
  },
  {
   "cell_type": "code",
   "execution_count": 144,
   "metadata": {},
   "outputs": [
    {
     "name": "stdout",
     "output_type": "stream",
     "text": [
      "emplength\n",
      "12021\n",
      "11 10+ years    79505\n",
      "2 years      20487\n",
      "3 years      18267\n",
      "< 1 year     17982\n",
      "1 year       14593\n",
      "Name: emplength, dtype: int64 7 years    13099\n",
      "5 years    13051\n",
      "8 years    11853\n",
      "6 years    11821\n",
      "9 years     9424\n",
      "Name: emplength, dtype: int64\n"
     ]
    }
   ],
   "source": [
    "# only keep first 3 digits, 866 values, use frequency and leave on out encoding\n",
    "i=12\n",
    "feat = ob_feature[i]\n",
    "print(feat)\n",
    "print(df[feat].isnull().sum())\n",
    "print(len(df[feat].value_counts()), df[feat].value_counts()[:5], df[feat].value_counts()[-5:])"
   ]
  },
  {
   "cell_type": "code",
   "execution_count": 145,
   "metadata": {},
   "outputs": [
    {
     "name": "stdout",
     "output_type": "stream",
     "text": [
      "verificationstatus\n",
      "2\n",
      "3 Source Verified    97741\n",
      "Not Verified       70659\n",
      "Verified           67229\n",
      "Name: verificationstatus, dtype: int64\n"
     ]
    }
   ],
   "source": [
    "i=13\n",
    "feat = ob_feature[i]\n",
    "print(feat)\n",
    "print(df[feat].isnull().sum())\n",
    "print(len(df[feat].value_counts()) , df[feat].value_counts()[:5]) #, df[feat].value_counts()[-5:]"
   ]
  },
  {
   "cell_type": "code",
   "execution_count": 146,
   "metadata": {},
   "outputs": [
    {
     "name": "stdout",
     "output_type": "stream",
     "text": [
      "emptitle\n",
      "13238\n",
      "75352 Teacher                     4569\n",
      "Manager                     3772\n",
      "Registered Nurse            1960\n",
      "RN                          1816\n",
      "Supervisor                  1663\n",
      "Owner                       1512\n",
      "Sales                       1406\n",
      "Project Manager             1368\n",
      "Office Manager              1185\n",
      "manager                     1115\n",
      "Driver                      1111\n",
      "General Manager             1055\n",
      "teacher                     1028\n",
      "Director                    1000\n",
      "Engineer                     870\n",
      "President                    852\n",
      "owner                        850\n",
      "Vice President               827\n",
      "driver                       822\n",
      "Attorney                     708\n",
      "Administrative Assistant     706\n",
      "Operations Manager           699\n",
      "Accountant                   663\n",
      "supervisor                   653\n",
      "Police Officer               627\n",
      "sales                        613\n",
      "Sales Manager                592\n",
      "Account Manager              566\n",
      "Executive Assistant          564\n",
      "Store Manager                562\n",
      "Name: emptitle, dtype: int64\n"
     ]
    }
   ],
   "source": [
    "# has 13236 NAs, can do frequency and simple NLP\n",
    "i=14\n",
    "feat = ob_feature[i]\n",
    "print(feat)\n",
    "print(df[feat].isnull().sum())\n",
    "print(len(df[feat].value_counts()) , df[feat].value_counts()[:30])#, df[feat].value_counts()[-10:]"
   ]
  },
  {
   "cell_type": "code",
   "execution_count": 147,
   "metadata": {},
   "outputs": [
    {
     "name": "stdout",
     "output_type": "stream",
     "text": [
      "id\n",
      "0\n",
      "235631 14680062    1\n",
      "37721926    1\n",
      "16141216    1\n",
      "17383145    1\n",
      "19587083    1\n",
      "19587082    1\n",
      "19587081    1\n",
      "12247045    1\n",
      "15379670    1\n",
      "26077194    1\n",
      "12247034    1\n",
      "35873342    1\n",
      "Name: id, dtype: int64\n"
     ]
    }
   ],
   "source": [
    "# 12 values, n/a, <1 year, 1~9 year(s), 10+ years, convert to num\n",
    "i=15\n",
    "feat = ob_feature[i]\n",
    "print(feat)\n",
    "print(df[feat].isnull().sum())\n",
    "print(len(df[feat].value_counts()) , df[feat].value_counts()[:12]) #, df[feat].value_counts()[-10:]"
   ]
  },
  {
   "cell_type": "code",
   "execution_count": 148,
   "metadata": {},
   "outputs": [
    {
     "name": "stdout",
     "output_type": "stream",
     "text": [
      "intrate\n",
      "2\n",
      "88  12.99%    12630\n",
      " 10.99%    10684\n",
      " 15.61%    10309\n",
      " 12.49%     9704\n",
      " 13.98%     8857\n",
      " 14.99%     8102\n",
      " 17.57%     7687\n",
      " 13.35%     7620\n",
      " 11.67%     7255\n",
      " 14.49%     7245\n",
      " 11.99%     6199\n",
      " 10.15%     6117\n",
      " 16.99%     5947\n",
      "  9.17%     5657\n",
      "  8.39%     5575\n",
      "Name: intrate, dtype: int64\n"
     ]
    }
   ],
   "source": [
    "i=16\n",
    "feat = ob_feature[i]\n",
    "print(feat)\n",
    "print(df[feat].isnull().sum())\n",
    "print(len(df[feat].value_counts()) , df[feat].value_counts()[:15]) #, df[feat].value_counts()[-10:]"
   ]
  },
  {
   "cell_type": "code",
   "execution_count": 149,
   "metadata": {},
   "outputs": [
    {
     "name": "stdout",
     "output_type": "stream",
     "text": [
      "issued\n",
      "2\n",
      "12 Oct-2014    38783\n",
      "Jul-2014    29306\n",
      "Nov-2014    25054\n",
      "May-2014    19099\n",
      "Apr-2014    19071\n",
      "Aug-2014    18814\n",
      "Jun-2014    17179\n",
      "Mar-2014    16513\n",
      "Jan-2014    15628\n",
      "Feb-2014    15269\n",
      "Sep-2014    10606\n",
      "Dec-2014    10307\n",
      "Name: issued, dtype: int64\n"
     ]
    }
   ],
   "source": [
    "i=17\n",
    "feat = ob_feature[i]\n",
    "print(feat)\n",
    "print(df[feat].isnull().sum())\n",
    "print(len(df[feat].value_counts()) , df[feat].value_counts()[:15]) #, df[feat].value_counts()[-10:]"
   ]
  },
  {
   "cell_type": "code",
   "execution_count": 150,
   "metadata": {},
   "outputs": [
    {
     "name": "stdout",
     "output_type": "stream",
     "text": [
      "loanstatus\n",
      "2\n",
      "7 Fully Paid            134710\n",
      "Current                62046\n",
      "Charged Off            34765\n",
      "Late (31-120 days)      2154\n",
      "In Grace Period         1504\n",
      "Late (16-30 days)        444\n",
      "Default                    6\n",
      "Name: loanstatus, dtype: int64\n"
     ]
    }
   ],
   "source": [
    "i=18\n",
    "feat = ob_feature[i]\n",
    "print(feat)\n",
    "print(df[feat].isnull().sum())\n",
    "print(len(df[feat].value_counts()) , df[feat].value_counts()[:15]) #, df[feat].value_counts()[-10:]"
   ]
  },
  {
   "cell_type": "markdown",
   "metadata": {},
   "source": [
    "## For an issued loan, fundedamnt=loanamnt, drop fundedamnt"
   ]
  },
  {
   "cell_type": "code",
   "execution_count": 151,
   "metadata": {
    "scrolled": true
   },
   "outputs": [
    {
     "name": "stderr",
     "output_type": "stream",
     "text": [
      "/anaconda3/lib/python3.6/site-packages/ipykernel_launcher.py:1: UserWarning: Pandas doesn't allow columns to be created via a new attribute name - see https://pandas.pydata.org/pandas-docs/stable/indexing.html#attribute-access\n",
      "  \"\"\"Entry point for launching an IPython kernel.\n"
     ]
    },
    {
     "data": {
      "text/html": [
       "<div>\n",
       "<style scoped>\n",
       "    .dataframe tbody tr th:only-of-type {\n",
       "        vertical-align: middle;\n",
       "    }\n",
       "\n",
       "    .dataframe tbody tr th {\n",
       "        vertical-align: top;\n",
       "    }\n",
       "\n",
       "    .dataframe thead th {\n",
       "        text-align: right;\n",
       "    }\n",
       "</style>\n",
       "<table border=\"1\" class=\"dataframe\">\n",
       "  <thead>\n",
       "    <tr style=\"text-align: right;\">\n",
       "      <th></th>\n",
       "      <th>fundedamnt</th>\n",
       "      <th>loanamnt</th>\n",
       "    </tr>\n",
       "  </thead>\n",
       "  <tbody>\n",
       "    <tr>\n",
       "      <th>0</th>\n",
       "      <td>10400.0</td>\n",
       "      <td>10400.0</td>\n",
       "    </tr>\n",
       "    <tr>\n",
       "      <th>1</th>\n",
       "      <td>15000.0</td>\n",
       "      <td>15000.0</td>\n",
       "    </tr>\n",
       "    <tr>\n",
       "      <th>2</th>\n",
       "      <td>9600.0</td>\n",
       "      <td>9600.0</td>\n",
       "    </tr>\n",
       "    <tr>\n",
       "      <th>3</th>\n",
       "      <td>7650.0</td>\n",
       "      <td>7650.0</td>\n",
       "    </tr>\n",
       "    <tr>\n",
       "      <th>4</th>\n",
       "      <td>12800.0</td>\n",
       "      <td>12800.0</td>\n",
       "    </tr>\n",
       "    <tr>\n",
       "      <th>5</th>\n",
       "      <td>21425.0</td>\n",
       "      <td>21425.0</td>\n",
       "    </tr>\n",
       "    <tr>\n",
       "      <th>6</th>\n",
       "      <td>23325.0</td>\n",
       "      <td>23325.0</td>\n",
       "    </tr>\n",
       "    <tr>\n",
       "      <th>7</th>\n",
       "      <td>17000.0</td>\n",
       "      <td>17000.0</td>\n",
       "    </tr>\n",
       "    <tr>\n",
       "      <th>8</th>\n",
       "      <td>2500.0</td>\n",
       "      <td>2500.0</td>\n",
       "    </tr>\n",
       "    <tr>\n",
       "      <th>9</th>\n",
       "      <td>12975.0</td>\n",
       "      <td>12975.0</td>\n",
       "    </tr>\n",
       "  </tbody>\n",
       "</table>\n",
       "</div>"
      ],
      "text/plain": [
       "   fundedamnt  loanamnt\n",
       "0     10400.0   10400.0\n",
       "1     15000.0   15000.0\n",
       "2      9600.0    9600.0\n",
       "3      7650.0    7650.0\n",
       "4     12800.0   12800.0\n",
       "5     21425.0   21425.0\n",
       "6     23325.0   23325.0\n",
       "7     17000.0   17000.0\n",
       "8      2500.0    2500.0\n",
       "9     12975.0   12975.0"
      ]
     },
     "execution_count": 151,
     "metadata": {},
     "output_type": "execute_result"
    },
    {
     "data": {
      "image/png": "[encoded data removed]",
      "text/plain": [
       "<Figure size 432x288 with 1 Axes>"
      ]
     },
     "metadata": {},
     "output_type": "display_data"
    }
   ],
   "source": [
    "df.ratio=df.fundedamnt/df.loanamnt.astype(float,3)\n",
    "df.ratio.hist(bins=100)\n",
    "df[['fundedamnt','loanamnt']][:10]"
   ]
  },
  {
   "cell_type": "markdown",
   "metadata": {},
   "source": [
    "##### Histogram"
   ]
  },
  {
   "cell_type": "code",
   "execution_count": 152,
   "metadata": {},
   "outputs": [
    {
     "data": {
      "text/plain": [
       "<matplotlib.axes._subplots.AxesSubplot at 0x1a5cfaabe0>"
      ]
     },
     "execution_count": 152,
     "metadata": {},
     "output_type": "execute_result"
    },
    {
     "data": {
      "image/png": "[encoded data removed]",
      "text/plain": [
       "<Figure size 432x288 with 1 Axes>"
      ]
     },
     "metadata": {},
     "output_type": "display_data"
    }
   ],
   "source": [
    "df.installment.hist(bins=100)"
   ]
  },
  {
   "cell_type": "markdown",
   "metadata": {},
   "source": [
    "##### Meanr response"
   ]
  },
  {
   "cell_type": "code",
   "execution_count": 153,
   "metadata": {},
   "outputs": [],
   "source": [
    "df = df.query(\"loanstatus == 'Fully Paid' or loanstatus == 'Charged Off' \")"
   ]
  },
  {
   "cell_type": "code",
   "execution_count": 154,
   "metadata": {},
   "outputs": [],
   "source": [
    "df['loanstatus'] = df.loanstatus.map({\"Charged Off\": 1, \"Fully Paid\": 0})"
   ]
  },
  {
   "cell_type": "code",
   "execution_count": 155,
   "metadata": {},
   "outputs": [],
   "source": [
    "dummy_list = [\"emplength\", \"verificationstatus\", \"delinq2yrs\", \"addrstate\", 'homeownership', \n",
    "              \"grade\", \"subgrade\", \"openacc\"]\n",
    "n = len(dummy_list)"
   ]
  },
  {
   "cell_type": "code",
   "execution_count": 156,
   "metadata": {},
   "outputs": [
    {
     "data": {
      "text/plain": [
       "<matplotlib.axes._subplots.AxesSubplot at 0x1a0fd3d748>"
      ]
     },
     "execution_count": 156,
     "metadata": {},
     "output_type": "execute_result"
    },
    {
     "data": {
      "image/png": "[encoded data removed]",
      "text/plain": [
       "<Figure size 432x288 with 1 Axes>"
      ]
     },
     "metadata": {},
     "output_type": "display_data"
    }
   ],
   "source": [
    "# why verified incomes gives higher default rates?\n",
    "\n",
    "sns.barplot(x=dummy_list[1], y='loanstatus', data=df)"
   ]
  },
  {
   "cell_type": "code",
   "execution_count": 157,
   "metadata": {},
   "outputs": [
    {
     "data": {
      "image/png": "[encoded data removed]",
      "text/plain": [
       "<Figure size 432x288 with 1 Axes>"
      ]
     },
     "metadata": {},
     "output_type": "display_data"
    }
   ],
   "source": [
    "sns.barplot(x=dummy_list[2], y='loanstatus', data=df)\n",
    "plt.show()"
   ]
  },
  {
   "cell_type": "code",
   "execution_count": 158,
   "metadata": {},
   "outputs": [
    {
     "data": {
      "image/png": "[encoded data removed]",
      "text/plain": [
       "<Figure size 432x288 with 1 Axes>"
      ]
     },
     "metadata": {},
     "output_type": "display_data"
    }
   ],
   "source": [
    "sns.barplot(x=dummy_list[3], y='loanstatus', data=df)\n",
    "plt.show()"
   ]
  },
  {
   "cell_type": "code",
   "execution_count": 159,
   "metadata": {},
   "outputs": [
    {
     "data": {
      "image/png": "[encoded data removed]",
      "text/plain": [
       "<Figure size 432x288 with 1 Axes>"
      ]
     },
     "metadata": {},
     "output_type": "display_data"
    }
   ],
   "source": [
    "sns.barplot(x=dummy_list[4], y='loanstatus', data=df)\n",
    "plt.show()"
   ]
  },
  {
   "cell_type": "code",
   "execution_count": 160,
   "metadata": {},
   "outputs": [
    {
     "data": {
      "image/png": "[encoded data removed]",
      "text/plain": [
       "<Figure size 432x288 with 1 Axes>"
      ]
     },
     "metadata": {},
     "output_type": "display_data"
    }
   ],
   "source": [
    "sns.barplot(x=dummy_list[5], y='loanstatus', data=df, order = ['A', 'B', 'C', 'D', 'E', 'F', 'G'])\n",
    "plt.show()"
   ]
  },
  {
   "cell_type": "code",
   "execution_count": 161,
   "metadata": {},
   "outputs": [
    {
     "data": {
      "text/plain": [
       "array(['A1', 'A2', 'A3', 'A4', 'A5', 'B1', 'B2', 'B3', 'B4', 'B5', 'C1',\n",
       "       'C2', 'C3', 'C4', 'C5', 'D1', 'D2', 'D3', 'D4', 'D5', 'E1', 'E2',\n",
       "       'E3', 'E4', 'E5', 'F1', 'F2', 'F3', 'F4', 'F5', 'G1', 'G2', 'G3',\n",
       "       'G4', 'G5'], dtype=object)"
      ]
     },
     "execution_count": 161,
     "metadata": {},
     "output_type": "execute_result"
    }
   ],
   "source": [
    "np.sort(df.subgrade.unique())"
   ]
  },
  {
   "cell_type": "code",
   "execution_count": 162,
   "metadata": {},
   "outputs": [
    {
     "data": {
      "image/png": "[encoded data removed]",
      "text/plain": [
       "<Figure size 432x288 with 1 Axes>"
      ]
     },
     "metadata": {},
     "output_type": "display_data"
    }
   ],
   "source": [
    "sns.barplot(x=dummy_list[6], y='loanstatus', data=df, order = np.sort(df.subgrade.unique()))\n",
    "plt.show()"
   ]
  },
  {
   "cell_type": "code",
   "execution_count": 163,
   "metadata": {},
   "outputs": [],
   "source": [
    "def countinuous_variable_plot(feat_name):\n",
    "    sns.set_style(\"whitegrid\", {'axes.edgecolor': '0'})\n",
    "    factor = pd.qcut(df[feat_name], 5, labels = False) #groups the data act on groups                                                               #seperately\n",
    "    table = df.groupby([factor, 'loanstatus']).size() #gets group size counts, hashed by the two variables\n",
    "    table = table.unstack('loanstatus') #splits the data into 2 columns, 0, 1, each indexed by the\n",
    "    normedtable = table.div(table.sum(1), axis=0) #divides the counts by the totals\n",
    "    fig, ax = plt.subplots(1, 1, figsize=(12,6))\n",
    "    normedtable.ix[:, 1].plot(kind = 'bar', alpha=0.9, color =\"#FD2C10\", ax = ax )\n",
    "    ax.set_xlabel(\"%s percentile\" % feat_name , fontsize = 20)\n",
    "    ax.set_ylabel('Default Rate', fontsize = 20)\n",
    "    x = range(5)\n",
    "    labels = ['20%tile', '40%tile', '60%tile', '80%tile', '100%tile']\n",
    "    plt.xticks(x, labels, rotation='0', fontsize = 18)\n",
    "    sns.despine()\n",
    "    ax.set_title(\"Loan Performance with respect to %s\" % feat_name )\n",
    "    fig.savefig('age.jpg')"
   ]
  },
  {
   "cell_type": "code",
   "execution_count": 164,
   "metadata": {},
   "outputs": [
    {
     "name": "stderr",
     "output_type": "stream",
     "text": [
      "/anaconda3/lib/python3.6/site-packages/ipykernel_launcher.py:8: DeprecationWarning: \n",
      ".ix is deprecated. Please use\n",
      ".loc for label based indexing or\n",
      ".iloc for positional indexing\n",
      "\n",
      "See the documentation here:\n",
      "http://pandas.pydata.org/pandas-docs/stable/indexing.html#ix-indexer-is-deprecated\n",
      "  \n"
     ]
    },
    {
     "data": {
      "image/png": "[encoded data removed]",
      "text/plain": [
       "<Figure size 864x432 with 1 Axes>"
      ]
     },
     "metadata": {},
     "output_type": "display_data"
    }
   ],
   "source": [
    "countinuous_variable_plot('annualinc')"
   ]
  },
  {
   "cell_type": "code",
   "execution_count": 165,
   "metadata": {},
   "outputs": [
    {
     "name": "stderr",
     "output_type": "stream",
     "text": [
      "/anaconda3/lib/python3.6/site-packages/ipykernel_launcher.py:8: DeprecationWarning: \n",
      ".ix is deprecated. Please use\n",
      ".loc for label based indexing or\n",
      ".iloc for positional indexing\n",
      "\n",
      "See the documentation here:\n",
      "http://pandas.pydata.org/pandas-docs/stable/indexing.html#ix-indexer-is-deprecated\n",
      "  \n"
     ]
    },
    {
     "data": {
      "image/png": "[encoded data removed]",
      "text/plain": [
       "<Figure size 864x432 with 1 Axes>"
      ]
     },
     "metadata": {},
     "output_type": "display_data"
    }
   ],
   "source": [
    "countinuous_variable_plot('dti')"
   ]
  },
  {
   "cell_type": "code",
   "execution_count": 166,
   "metadata": {},
   "outputs": [
    {
     "name": "stderr",
     "output_type": "stream",
     "text": [
      "/anaconda3/lib/python3.6/site-packages/ipykernel_launcher.py:8: DeprecationWarning: \n",
      ".ix is deprecated. Please use\n",
      ".loc for label based indexing or\n",
      ".iloc for positional indexing\n",
      "\n",
      "See the documentation here:\n",
      "http://pandas.pydata.org/pandas-docs/stable/indexing.html#ix-indexer-is-deprecated\n",
      "  \n"
     ]
    },
    {
     "data": {
      "image/png": "[encoded data removed]",
      "text/plain": [
       "<Figure size 864x432 with 1 Axes>"
      ]
     },
     "metadata": {},
     "output_type": "display_data"
    }
   ],
   "source": [
    "countinuous_variable_plot('revolbal')"
   ]
  },
  {
   "cell_type": "code",
   "execution_count": 167,
   "metadata": {},
   "outputs": [
    {
     "name": "stderr",
     "output_type": "stream",
     "text": [
      "/anaconda3/lib/python3.6/site-packages/ipykernel_launcher.py:8: DeprecationWarning: \n",
      ".ix is deprecated. Please use\n",
      ".loc for label based indexing or\n",
      ".iloc for positional indexing\n",
      "\n",
      "See the documentation here:\n",
      "http://pandas.pydata.org/pandas-docs/stable/indexing.html#ix-indexer-is-deprecated\n",
      "  \n"
     ]
    },
    {
     "data": {
      "image/png": "[encoded data removed]",
      "text/plain": [
       "<Figure size 864x432 with 1 Axes>"
      ]
     },
     "metadata": {},
     "output_type": "display_data"
    }
   ],
   "source": [
    "countinuous_variable_plot('tothicredlim')"
   ]
  },
  {
   "cell_type": "code",
   "execution_count": 168,
   "metadata": {},
   "outputs": [
    {
     "name": "stderr",
     "output_type": "stream",
     "text": [
      "/anaconda3/lib/python3.6/site-packages/ipykernel_launcher.py:8: DeprecationWarning: \n",
      ".ix is deprecated. Please use\n",
      ".loc for label based indexing or\n",
      ".iloc for positional indexing\n",
      "\n",
      "See the documentation here:\n",
      "http://pandas.pydata.org/pandas-docs/stable/indexing.html#ix-indexer-is-deprecated\n",
      "  \n"
     ]
    },
    {
     "data": {
      "image/png": "[encoded data removed]",
      "text/plain": [
       "<Figure size 864x432 with 1 Axes>"
      ]
     },
     "metadata": {},
     "output_type": "display_data"
    }
   ],
   "source": [
    "countinuous_variable_plot('totalbalexmort')"
   ]
  },
  {
   "cell_type": "code",
   "execution_count": 169,
   "metadata": {},
   "outputs": [
    {
     "name": "stderr",
     "output_type": "stream",
     "text": [
      "/anaconda3/lib/python3.6/site-packages/ipykernel_launcher.py:8: DeprecationWarning: \n",
      ".ix is deprecated. Please use\n",
      ".loc for label based indexing or\n",
      ".iloc for positional indexing\n",
      "\n",
      "See the documentation here:\n",
      "http://pandas.pydata.org/pandas-docs/stable/indexing.html#ix-indexer-is-deprecated\n",
      "  \n"
     ]
    },
    {
     "data": {
      "image/png": "[encoded data removed]",
      "text/plain": [
       "<Figure size 864x432 with 1 Axes>"
      ]
     },
     "metadata": {},
     "output_type": "display_data"
    }
   ],
   "source": [
    "countinuous_variable_plot('totalbclimit')"
   ]
  },
  {
   "cell_type": "code",
   "execution_count": 170,
   "metadata": {},
   "outputs": [
    {
     "name": "stderr",
     "output_type": "stream",
     "text": [
      "/anaconda3/lib/python3.6/site-packages/ipykernel_launcher.py:8: DeprecationWarning: \n",
      ".ix is deprecated. Please use\n",
      ".loc for label based indexing or\n",
      ".iloc for positional indexing\n",
      "\n",
      "See the documentation here:\n",
      "http://pandas.pydata.org/pandas-docs/stable/indexing.html#ix-indexer-is-deprecated\n",
      "  \n"
     ]
    },
    {
     "data": {
      "image/png": "[encoded data removed]",
      "text/plain": [
       "<Figure size 864x432 with 1 Axes>"
      ]
     },
     "metadata": {},
     "output_type": "display_data"
    }
   ],
   "source": [
    "countinuous_variable_plot('totalilhighcreditlimit')"
   ]
  },
  {
   "cell_type": "code",
   "execution_count": null,
   "metadata": {},
   "outputs": [],
   "source": []
  }
 ],
 "metadata": {
  "anaconda-cloud": {},
  "kernelspec": {
   "display_name": "Python 3",
   "language": "python",
   "name": "python3"
  },
  "language_info": {
   "codemirror_mode": {
    "name": "ipython",
    "version": 3
   },
   "file_extension": ".py",
   "mimetype": "text/x-python",
   "name": "python",
   "nbconvert_exporter": "python",
   "pygments_lexer": "ipython3",
   "version": "3.6.5"
  },
  "toc": {
   "nav_menu": {},
   "number_sections": true,
   "sideBar": true,
   "skip_h1_title": false,
   "toc_cell": false,
   "toc_position": {},
   "toc_section_display": "block",
   "toc_window_display": false
  }
 },
 "nbformat": 4,
 "nbformat_minor": 1
}
