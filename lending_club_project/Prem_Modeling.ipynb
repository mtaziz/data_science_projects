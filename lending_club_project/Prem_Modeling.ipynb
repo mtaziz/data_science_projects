{
 "cells": [
  {
   "cell_type": "code",
   "execution_count": 1,
   "metadata": {},
   "outputs": [],
   "source": [
    "import pandas as pd\n",
    "import numpy as np\n",
    "import matplotlib.pyplot as plt\n",
    "%matplotlib inline\n",
    "import xgboost as xgb\n",
    "import seaborn as sns"
   ]
  },
  {
   "cell_type": "markdown",
   "metadata": {},
   "source": [
    "## Load Data"
   ]
  },
  {
   "cell_type": "code",
   "execution_count": 2,
   "metadata": {},
   "outputs": [
    {
     "name": "stderr",
     "output_type": "stream",
     "text": [
      "/anaconda3/lib/python3.6/site-packages/IPython/core/interactiveshell.py:2728: DtypeWarning: Columns (4,83) have mixed types. Specify dtype option on import or set low_memory=False.\n",
      "  interactivity=interactivity, compiler=compiler, result=result)\n"
     ]
    }
   ],
   "source": [
    "df1 = pd.read_csv('/Users/nzhang/OneDrive/Data/lending_club/FinTech_data/loan_2014.csv')"
   ]
  },
  {
   "cell_type": "code",
   "execution_count": 3,
   "metadata": {},
   "outputs": [
    {
     "data": {
      "text/plain": [
       "(235631, 95)"
      ]
     },
     "execution_count": 3,
     "metadata": {},
     "output_type": "execute_result"
    }
   ],
   "source": [
    "df1.shape"
   ]
  },
  {
   "cell_type": "code",
   "execution_count": 4,
   "metadata": {
    "scrolled": true
   },
   "outputs": [
    {
     "data": {
      "text/plain": [
       "accnowdelinq                    5\n",
       "accopenpast24mths              37\n",
       "addrstate                      49\n",
       "allutil                         0\n",
       "annualinc                   18248\n",
       "annualincjoint                  0\n",
       "applicationtype                 1\n",
       "avgcurbal                   47604\n",
       "bcopentobuy                 38469\n",
       "bcutil                       1255\n",
       "chargeoffwithin12mths           8\n",
       "collections12mthsexmed          9\n",
       "delinq2yrs                     22\n",
       "delinqamnt                    546\n",
       "desc                        14843\n",
       "dti                          3995\n",
       "dtijoint                        0\n",
       "earliestcrline                638\n",
       "emplength                      11\n",
       "emptitle                    75352\n",
       "ficorangehigh                  38\n",
       "ficorangelow                   38\n",
       "fundedamnt                   1309\n",
       "grade                           7\n",
       "homeownership                   4\n",
       "id                         235631\n",
       "ilutil                          0\n",
       "initialliststatus               2\n",
       "inqfi                           0\n",
       "inqlast12m                      0\n",
       "                            ...  \n",
       "openacc                        61\n",
       "openacc6m                       0\n",
       "openil12m                       0\n",
       "openil24m                       0\n",
       "openil6m                        0\n",
       "openrv12m                       0\n",
       "openrv24m                       0\n",
       "pcttlnvrdlq                   465\n",
       "percentbcgt75                 172\n",
       "pubrec                         24\n",
       "pubrecbankruptcies              9\n",
       "purpose                        13\n",
       "revolbal                    48789\n",
       "revolutil                    1160\n",
       "subgrade                       35\n",
       "taxliens                       22\n",
       "term                            2\n",
       "totalacc                      111\n",
       "totalbalexmort              98310\n",
       "totalbalil                      0\n",
       "totalbclimit                 2843\n",
       "totalcutl                       0\n",
       "totalilhighcreditlimit      87433\n",
       "totalrevhilim                5767\n",
       "totcollamt                   5771\n",
       "totcurbal                  158279\n",
       "tothicredlim               157953\n",
       "verificationstatus              3\n",
       "verificationstatusjoint         0\n",
       "zipcode                       866\n",
       "Length: 95, dtype: int64"
      ]
     },
     "execution_count": 4,
     "metadata": {},
     "output_type": "execute_result"
    }
   ],
   "source": [
    "df1.nunique().sort_index()"
   ]
  },
  {
   "cell_type": "code",
   "execution_count": 5,
   "metadata": {
    "scrolled": true
   },
   "outputs": [
    {
     "name": "stdout",
     "output_type": "stream",
     "text": [
      "<class 'pandas.core.frame.DataFrame'>\n",
      "RangeIndex: 235631 entries, 0 to 235630\n",
      "Data columns (total 95 columns):\n",
      "taxliens                      235629 non-null float64\n",
      "totalbalexmort                235629 non-null float64\n",
      "maxbalbc                      0 non-null float64\n",
      "totcurbal                     235629 non-null float64\n",
      "desc                          15279 non-null object\n",
      "revolbal                      235629 non-null float64\n",
      "mthssincelastdelinq           119748 non-null float64\n",
      "mortacc                       235629 non-null float64\n",
      "delinq2yrs                    235629 non-null float64\n",
      "zipcode                       235629 non-null object\n",
      "mosinoldrevtlop               235629 non-null float64\n",
      "mthssincelastmajorderog       66478 non-null float64\n",
      "openil12m                     0 non-null float64\n",
      "numbctl                       235629 non-null float64\n",
      "term                          235629 non-null object\n",
      "pubrec                        235629 non-null float64\n",
      "bcutil                        233018 non-null float64\n",
      "grade                         235629 non-null object\n",
      "numiltl                       235629 non-null float64\n",
      "totcollamt                    235629 non-null float64\n",
      "pcttlnvrdlq                   235629 non-null float64\n",
      "addrstate                     235629 non-null object\n",
      "totalrevhilim                 235629 non-null float64\n",
      "numactvbctl                   235629 non-null float64\n",
      "numtl120dpd2m                 227769 non-null float64\n",
      "mthssincelastrecord           41524 non-null float64\n",
      "ficorangehigh                 235629 non-null float64\n",
      "mosinrcnttl                   235629 non-null float64\n",
      "numactvrevtl                  235629 non-null float64\n",
      "percentbcgt75                 233072 non-null float64\n",
      "collections12mthsexmed        235629 non-null float64\n",
      "totalilhighcreditlimit        235629 non-null float64\n",
      "accnowdelinq                  235629 non-null float64\n",
      "totalbalil                    0 non-null float64\n",
      "numrevtlbalgt0                235629 non-null float64\n",
      "verificationstatusjoint       0 non-null float64\n",
      "allutil                       0 non-null float64\n",
      "avgcurbal                     235623 non-null float64\n",
      "subgrade                      235629 non-null object\n",
      "annualinc                     235629 non-null float64\n",
      "mthssincercntil               0 non-null float64\n",
      "revolutil                     235504 non-null object\n",
      "delinqamnt                    235629 non-null float64\n",
      "totalcutl                     0 non-null float64\n",
      "mthssincerecentinq            213937 non-null float64\n",
      "numrevaccts                   235629 non-null float64\n",
      "bcopentobuy                   233184 non-null float64\n",
      "applicationtype               235629 non-null object\n",
      "numbcsats                     235629 non-null float64\n",
      "ilutil                        0 non-null float64\n",
      "pubrecbankruptcies            235629 non-null float64\n",
      "accopenpast24mths             235629 non-null float64\n",
      "totalbclimit                  235629 non-null float64\n",
      "homeownership                 235629 non-null object\n",
      "fundedamnt                    235629 non-null float64\n",
      "installment                   235629 non-null float64\n",
      "purpose                       235629 non-null object\n",
      "initialliststatus             235629 non-null object\n",
      "mthssincerecentbcdlq          62281 non-null float64\n",
      "earliestcrline                235629 non-null object\n",
      "annualincjoint                0 non-null float64\n",
      "numtl30dpd                    235629 non-null float64\n",
      "memberid                      0 non-null float64\n",
      "openacc6m                     0 non-null float64\n",
      "numtloppast12m                235629 non-null float64\n",
      "mosinoldilacct                228458 non-null float64\n",
      "emplength                     223610 non-null object\n",
      "openrv24m                     0 non-null float64\n",
      "loanamnt                      235629 non-null float64\n",
      "dti                           235629 non-null float64\n",
      "chargeoffwithin12mths         235629 non-null float64\n",
      "inqfi                         0 non-null float64\n",
      "openil24m                     0 non-null float64\n",
      "inqlast6mths                  235629 non-null float64\n",
      "mthssincerecentbc             233383 non-null float64\n",
      "dtijoint                      0 non-null float64\n",
      "numacctsever120pd             235629 non-null float64\n",
      "mosinrcntrevtlop              235629 non-null float64\n",
      "verificationstatus            235629 non-null object\n",
      "emptitle                      222393 non-null object\n",
      "mthssincerecentrevoldelinq    84766 non-null float64\n",
      "numoprevtl                    235629 non-null float64\n",
      "ficorangelow                  235629 non-null float64\n",
      "id                            235631 non-null object\n",
      "numtl90gdpd24m                235629 non-null float64\n",
      "intrate                       235629 non-null object\n",
      "openil6m                      0 non-null float64\n",
      "numsats                       235629 non-null float64\n",
      "totalacc                      235629 non-null float64\n",
      "inqlast12m                    0 non-null float64\n",
      "tothicredlim                  235629 non-null float64\n",
      "openrv12m                     0 non-null float64\n",
      "openacc                       235629 non-null float64\n",
      "issued                        235629 non-null object\n",
      "loanstatus                    235629 non-null object\n",
      "dtypes: float64(76), object(19)\n",
      "memory usage: 170.8+ MB\n"
     ]
    }
   ],
   "source": [
    "df1.info()"
   ]
  },
  {
   "cell_type": "markdown",
   "metadata": {},
   "source": [
    "## Select Data"
   ]
  },
  {
   "cell_type": "code",
   "execution_count": 6,
   "metadata": {},
   "outputs": [],
   "source": [
    "all_null_feature =['inqlast12m',\n",
    " 'verificationstatusjoint',\n",
    " 'maxbalbc',\n",
    " 'annualincjoint',\n",
    " 'memberid',\n",
    " 'openil6m',\n",
    " 'openacc6m',\n",
    " 'totalbalil',\n",
    " 'inqfi',\n",
    " 'mthssincercntil',\n",
    " 'openrv24m',\n",
    " 'openrv12m',\n",
    " 'dtijoint',\n",
    " 'openil12m',\n",
    " 'openil24m',\n",
    " 'allutil',\n",
    " 'totalcutl',\n",
    " 'ilutil']"
   ]
  },
  {
   "cell_type": "code",
   "execution_count": 7,
   "metadata": {},
   "outputs": [],
   "source": [
    "ob_feature=['initialliststatus',\n",
    " 'grade',\n",
    " 'subgrade',\n",
    " 'earliestcrline',\n",
    " 'applicationtype',\n",
    " 'intrate',\n",
    " 'desc',\n",
    " 'term',\n",
    " 'homeownership',\n",
    " 'addrstate',\n",
    " 'revolutil',\n",
    " 'id',\n",
    " 'zipcode',\n",
    " 'verificationstatus',\n",
    " 'emptitle',\n",
    " 'emplength',\n",
    " 'purpose',\n",
    " 'issued',\n",
    " 'loanstatus']"
   ]
  },
  {
   "cell_type": "code",
   "execution_count": 8,
   "metadata": {},
   "outputs": [],
   "source": [
    "num_feature=['bcopentobuy', 'numactvbctl', 'mthssincelastrecord', 'totcurbal', 'totalbalexmort', 'mosinrcnttl', 'mortacc', 'mthssincelastdelinq', 'numactvrevtl', 'tothicredlim', 'ficorangehigh', 'bcutil', 'numbctl', 'totalrevhilim', 'totcollamt', 'numtl120dpd2m', 'ficorangelow', 'totalacc', 'mthssincerecentbcdlq', 'installment', 'numrevaccts', 'pubrec', 'accopenpast24mths', 'numoprevtl', 'avgcurbal', 'dti', 'delinq2yrs', 'fundedamnt', 'mosinoldilacct', 'annualinc', 'numtl30dpd', 'loanamnt', 'numsats', 'mthssincerecentrevoldelinq', 'mthssincerecentbc', 'revolbal', 'inqlast6mths', 'totalilhighcreditlimit', 'collections12mthsexmed', 'chargeoffwithin12mths', 'numtl90gdpd24m', 'delinqamnt', 'mosinoldrevtlop', 'taxliens', 'numbcsats', 'totalbclimit', 'numacctsever120pd', 'accnowdelinq', 'pcttlnvrdlq', 'mthssincerecentinq', 'numiltl', 'mosinrcntrevtlop', 'openacc', 'numrevtlbalgt0', 'mthssincelastmajorderog', 'numtloppast12m', 'percentbcgt75', 'pubrecbankruptcies']"
   ]
  },
  {
   "cell_type": "code",
   "execution_count": 9,
   "metadata": {},
   "outputs": [
    {
     "data": {
      "text/plain": [
       "77"
      ]
     },
     "execution_count": 9,
     "metadata": {},
     "output_type": "execute_result"
    }
   ],
   "source": [
    "select_feature=ob_feature+num_feature\n",
    "len(select_feature)"
   ]
  },
  {
   "cell_type": "code",
   "execution_count": 10,
   "metadata": {},
   "outputs": [],
   "source": [
    "# remove applicationtype since it only has one value as 'individual'\n",
    "ob_feature.remove('applicationtype')"
   ]
  },
  {
   "cell_type": "code",
   "execution_count": 11,
   "metadata": {},
   "outputs": [],
   "source": [
    "# remove fundedamnt since it always equals to 1 for issued loans and varied during different time of a current loan\n",
    "num_feature.remove('fundedamnt')"
   ]
  },
  {
   "cell_type": "code",
   "execution_count": 12,
   "metadata": {},
   "outputs": [],
   "source": [
    "# remove 'id','issued' and 'loanstatus' from ob_feature, since they are index, train/test flag and target\n",
    "ob_feature.remove('id')\n",
    "ob_feature.remove('loanstatus')\n",
    "ob_feature.remove('issued')"
   ]
  },
  {
   "cell_type": "code",
   "execution_count": 13,
   "metadata": {},
   "outputs": [],
   "source": [
    "# remove 'desc' from ob_feature and select_feature\n",
    "ob_feature.remove('desc')"
   ]
  },
  {
   "cell_type": "code",
   "execution_count": 14,
   "metadata": {},
   "outputs": [
    {
     "data": {
      "text/plain": [
       "71"
      ]
     },
     "execution_count": 14,
     "metadata": {},
     "output_type": "execute_result"
    }
   ],
   "source": [
    "select_feature=ob_feature+num_feature\n",
    "len(select_feature)"
   ]
  },
  {
   "cell_type": "code",
   "execution_count": 15,
   "metadata": {},
   "outputs": [],
   "source": [
    "# selected features left and delete the last two rows\n",
    "df=df1[select_feature+['id','loanstatus','issued']][:-2]"
   ]
  },
  {
   "cell_type": "code",
   "execution_count": 16,
   "metadata": {
    "scrolled": true
   },
   "outputs": [
    {
     "data": {
      "text/plain": [
       "(235629, 74)"
      ]
     },
     "execution_count": 16,
     "metadata": {},
     "output_type": "execute_result"
    }
   ],
   "source": [
    "df.shape"
   ]
  },
  {
   "cell_type": "markdown",
   "metadata": {},
   "source": [
    "## only use term=36 months and loanstatus = fully paid and charged off"
   ]
  },
  {
   "cell_type": "code",
   "execution_count": 17,
   "metadata": {},
   "outputs": [
    {
     "data": {
      "text/plain": [
       "Fully Paid            134710\n",
       "Current                62046\n",
       "Charged Off            34765\n",
       "Late (31-120 days)      2154\n",
       "In Grace Period         1504\n",
       "Late (16-30 days)        444\n",
       "Default                    6\n",
       "Name: loanstatus, dtype: int64"
      ]
     },
     "execution_count": 17,
     "metadata": {},
     "output_type": "execute_result"
    }
   ],
   "source": [
    "df1.loanstatus.value_counts()"
   ]
  },
  {
   "cell_type": "code",
   "execution_count": 18,
   "metadata": {},
   "outputs": [],
   "source": [
    "df = df.query(\"loanstatus == 'Fully Paid' or loanstatus == 'Charged Off' \")"
   ]
  },
  {
   "cell_type": "code",
   "execution_count": 19,
   "metadata": {},
   "outputs": [],
   "source": [
    "df = df.query(\"term ==' 36 months'\")"
   ]
  },
  {
   "cell_type": "code",
   "execution_count": 20,
   "metadata": {},
   "outputs": [
    {
     "data": {
      "text/plain": [
       "(129487, 74)"
      ]
     },
     "execution_count": 20,
     "metadata": {},
     "output_type": "execute_result"
    }
   ],
   "source": [
    "df.shape"
   ]
  },
  {
   "cell_type": "code",
   "execution_count": 21,
   "metadata": {},
   "outputs": [],
   "source": [
    "ob_feature.remove('term')"
   ]
  },
  {
   "cell_type": "markdown",
   "metadata": {},
   "source": [
    "## Label Target"
   ]
  },
  {
   "cell_type": "code",
   "execution_count": 22,
   "metadata": {},
   "outputs": [],
   "source": [
    "df['loanstatus'] = df.loanstatus.map({\"Charged Off\": 1, \"Fully Paid\": 0})"
   ]
  },
  {
   "cell_type": "code",
   "execution_count": 23,
   "metadata": {},
   "outputs": [
    {
     "name": "stdout",
     "output_type": "stream",
     "text": [
      "0    108778\n",
      "1     20709\n",
      "Name: loanstatus, dtype: int64\n",
      "0    0.840069\n",
      "1    0.159931\n",
      "Name: loanstatus, dtype: float64\n"
     ]
    }
   ],
   "source": [
    "print(df.loanstatus.value_counts())\n",
    "print(df.loanstatus.value_counts(normalize=True))"
   ]
  },
  {
   "cell_type": "markdown",
   "metadata": {},
   "source": [
    "## Out of time testing set and in-time training set: Oct~Dec as test)"
   ]
  },
  {
   "cell_type": "code",
   "execution_count": 24,
   "metadata": {},
   "outputs": [
    {
     "data": {
      "text/plain": [
       "['Dec-2014',\n",
       " 'Nov-2014',\n",
       " 'Oct-2014',\n",
       " 'Sep-2014',\n",
       " 'Aug-2014',\n",
       " 'Jul-2014',\n",
       " 'Jun-2014',\n",
       " 'May-2014',\n",
       " 'Apr-2014',\n",
       " 'Mar-2014',\n",
       " 'Feb-2014',\n",
       " 'Jan-2014']"
      ]
     },
     "execution_count": 24,
     "metadata": {},
     "output_type": "execute_result"
    }
   ],
   "source": [
    "issued=list(df['issued'].unique())\n",
    "issued"
   ]
  },
  {
   "cell_type": "code",
   "execution_count": 25,
   "metadata": {},
   "outputs": [
    {
     "data": {
      "text/plain": [
       "1    98997\n",
       "0    30490\n",
       "Name: train_flg, dtype: int64"
      ]
     },
     "execution_count": 25,
     "metadata": {},
     "output_type": "execute_result"
    }
   ],
   "source": [
    "df['train_flg'] = df.issued.apply(lambda x: 0 if x in issued[:3] else 1)\n",
    "df.train_flg.value_counts()"
   ]
  },
  {
   "cell_type": "markdown",
   "metadata": {},
   "source": [
    "## Feature Engineering & Cleaning"
   ]
  },
  {
   "cell_type": "markdown",
   "metadata": {},
   "source": [
    "#### Datetime to numeric feature"
   ]
  },
  {
   "cell_type": "code",
   "execution_count": 26,
   "metadata": {},
   "outputs": [
    {
     "data": {
      "text/plain": [
       "array(['Sep-1989', 'Nov-1992', 'Aug-2002', 'Oct-1998', 'Jan-2001'], dtype=object)"
      ]
     },
     "execution_count": 26,
     "metadata": {},
     "output_type": "execute_result"
    }
   ],
   "source": [
    "df.earliestcrline.unique()[:5]"
   ]
  },
  {
   "cell_type": "code",
   "execution_count": 27,
   "metadata": {},
   "outputs": [],
   "source": [
    "# convert to number of months to Dec 2014"
   ]
  },
  {
   "cell_type": "code",
   "execution_count": 28,
   "metadata": {},
   "outputs": [],
   "source": [
    "cl_month=df.earliestcrline.apply(lambda x: x.split('-')[0])\n",
    "cl_year=df.earliestcrline.apply(lambda x: int(x.split('-')[1]))"
   ]
  },
  {
   "cell_type": "code",
   "execution_count": 29,
   "metadata": {},
   "outputs": [
    {
     "data": {
      "text/plain": [
       "array(['Sep', 'Nov', 'Aug', 'Oct', 'Jan', 'May', 'Jul', 'Dec', 'Jun',\n",
       "       'Mar', 'Apr', 'Feb'], dtype=object)"
      ]
     },
     "execution_count": 29,
     "metadata": {},
     "output_type": "execute_result"
    }
   ],
   "source": [
    "cl_month.unique()"
   ]
  },
  {
   "cell_type": "code",
   "execution_count": 30,
   "metadata": {},
   "outputs": [
    {
     "data": {
      "text/plain": [
       "array([1989, 1992, 2002, 1998, 2001, 1999, 2009, 2003, 1993, 1995, 1996,\n",
       "       2007, 2004, 1997, 2008, 2011, 2006, 2010, 1988, 1994, 2000, 1987,\n",
       "       2005, 1986, 1973, 1982, 1991, 1984, 1976, 1974, 1981, 1990, 1978,\n",
       "       1979, 1985, 1983, 1971, 1967, 1972, 1968, 1980, 1977, 1965, 1966,\n",
       "       1975, 1969, 1963, 1970, 1964, 1958, 1962, 1959, 1955, 1960, 1961,\n",
       "       1954, 1957, 1949, 1950, 1948, 1953, 1956])"
      ]
     },
     "execution_count": 30,
     "metadata": {},
     "output_type": "execute_result"
    }
   ],
   "source": [
    "cl_year.unique()"
   ]
  },
  {
   "cell_type": "code",
   "execution_count": 31,
   "metadata": {},
   "outputs": [],
   "source": [
    "dic_month= {'Jan':11,'Feb':10,'Mar':9,'Apr':8, 'May':7, 'Jun':6, 'Jul':5, 'Aug':4, 'Sep':3, 'Oct':2, 'Nov':1, 'Dec':0}"
   ]
  },
  {
   "cell_type": "code",
   "execution_count": 32,
   "metadata": {},
   "outputs": [],
   "source": [
    "df['earliestcrline_month']=df.earliestcrline.apply(lambda x: (2014-int(x.split('-')[1]))*12+dic_month[x.split('-')[0]])"
   ]
  },
  {
   "cell_type": "code",
   "execution_count": 33,
   "metadata": {},
   "outputs": [
    {
     "data": {
      "text/plain": [
       "0    303\n",
       "2    265\n",
       "3    148\n",
       "6    194\n",
       "7    167\n",
       "Name: earliestcrline_month, dtype: int64"
      ]
     },
     "execution_count": 33,
     "metadata": {},
     "output_type": "execute_result"
    }
   ],
   "source": [
    "df.earliestcrline_month[:5]"
   ]
  },
  {
   "cell_type": "code",
   "execution_count": 34,
   "metadata": {},
   "outputs": [],
   "source": [
    "num_feature.append('earliestcrline_month')\n",
    "ob_feature.remove('earliestcrline')"
   ]
  },
  {
   "cell_type": "code",
   "execution_count": 35,
   "metadata": {},
   "outputs": [
    {
     "name": "stdout",
     "output_type": "stream",
     "text": [
      "12 58\n"
     ]
    }
   ],
   "source": [
    "print(len(ob_feature), len(num_feature))"
   ]
  },
  {
   "cell_type": "markdown",
   "metadata": {},
   "source": [
    "### emplength to numeric feature"
   ]
  },
  {
   "cell_type": "code",
   "execution_count": 36,
   "metadata": {},
   "outputs": [
    {
     "name": "stdout",
     "output_type": "stream",
     "text": [
      "7321\n"
     ]
    },
    {
     "data": {
      "text/plain": [
       "array(['8 years', '10+ years', '< 1 year', '2 years', '7 years', '9 years',\n",
       "       nan, '4 years', '3 years', '1 year', '5 years', '6 years'], dtype=object)"
      ]
     },
     "execution_count": 36,
     "metadata": {},
     "output_type": "execute_result"
    }
   ],
   "source": [
    "print(df['emplength'].isnull().sum())\n",
    "df['emplength'].unique()"
   ]
  },
  {
   "cell_type": "code",
   "execution_count": 37,
   "metadata": {},
   "outputs": [],
   "source": [
    "df['emplength'].replace('n/a', np.nan, inplace=True)\n",
    "df['emplength'].replace('< 1 year', '0', inplace=True)\n",
    "df['emplength'].replace(to_replace='[^0-9]+', value='', inplace=True, regex=True)\n",
    "df.emplength.fillna(value=-999,inplace=True)\n",
    "df['emplength'] = df['emplength'].astype(int)"
   ]
  },
  {
   "cell_type": "code",
   "execution_count": 38,
   "metadata": {},
   "outputs": [
    {
     "data": {
      "text/plain": [
       " 10     40456\n",
       " 2      11807\n",
       " 0      10538\n",
       " 3      10523\n",
       " 1       8502\n",
       " 4       7572\n",
       " 5       7395\n",
       "-999     7321\n",
       " 7       7211\n",
       " 6       6704\n",
       " 8       6457\n",
       " 9       5001\n",
       "Name: emplength, dtype: int64"
      ]
     },
     "execution_count": 38,
     "metadata": {},
     "output_type": "execute_result"
    }
   ],
   "source": [
    "df.emplength.value_counts()"
   ]
  },
  {
   "cell_type": "code",
   "execution_count": 39,
   "metadata": {},
   "outputs": [
    {
     "name": "stdout",
     "output_type": "stream",
     "text": [
      "59 11\n"
     ]
    }
   ],
   "source": [
    "num_feature.append('emplength')\n",
    "ob_feature.remove('emplength')\n",
    "print(len(num_feature), len(ob_feature))"
   ]
  },
  {
   "cell_type": "markdown",
   "metadata": {},
   "source": [
    "## % to numeric feature: intrate, revolutil"
   ]
  },
  {
   "cell_type": "code",
   "execution_count": 40,
   "metadata": {},
   "outputs": [],
   "source": [
    "intrate=df.intrate.apply(lambda x: float(x.replace('%','')))"
   ]
  },
  {
   "cell_type": "code",
   "execution_count": 41,
   "metadata": {},
   "outputs": [
    {
     "data": {
      "text/plain": [
       "0     6.99\n",
       "2    13.66\n",
       "Name: intrate, dtype: float64"
      ]
     },
     "execution_count": 41,
     "metadata": {},
     "output_type": "execute_result"
    }
   ],
   "source": [
    "df.intrate=intrate\n",
    "df.intrate[:2]"
   ]
  },
  {
   "cell_type": "code",
   "execution_count": 42,
   "metadata": {},
   "outputs": [
    {
     "data": {
      "text/plain": [
       "0    31.6%\n",
       "2    59.4%\n",
       "3    91.9%\n",
       "Name: revolutil, dtype: object"
      ]
     },
     "execution_count": 42,
     "metadata": {},
     "output_type": "execute_result"
    }
   ],
   "source": [
    "df.revolutil[:3]"
   ]
  },
  {
   "cell_type": "code",
   "execution_count": 43,
   "metadata": {},
   "outputs": [],
   "source": [
    "revolutil=df.revolutil.apply(lambda x: str(x).replace('%','')).astype(float)"
   ]
  },
  {
   "cell_type": "code",
   "execution_count": 44,
   "metadata": {},
   "outputs": [
    {
     "data": {
      "text/plain": [
       "0    31.6\n",
       "2    59.4\n",
       "Name: revolutil, dtype: float64"
      ]
     },
     "execution_count": 44,
     "metadata": {},
     "output_type": "execute_result"
    }
   ],
   "source": [
    "df.revolutil=revolutil\n",
    "df.revolutil[:2]"
   ]
  },
  {
   "cell_type": "code",
   "execution_count": 45,
   "metadata": {},
   "outputs": [],
   "source": [
    "ob_feature.remove('intrate')\n",
    "num_feature.append('intrate')\n",
    "ob_feature.remove('revolutil')\n",
    "num_feature.append('revolutil')"
   ]
  },
  {
   "cell_type": "code",
   "execution_count": 46,
   "metadata": {},
   "outputs": [
    {
     "name": "stdout",
     "output_type": "stream",
     "text": [
      "9 61\n"
     ]
    }
   ],
   "source": [
    "print(len(ob_feature), len(num_feature))"
   ]
  },
  {
   "cell_type": "markdown",
   "metadata": {},
   "source": [
    "#### Ordinal feature encoding : grade, subgrade"
   ]
  },
  {
   "cell_type": "code",
   "execution_count": 47,
   "metadata": {},
   "outputs": [],
   "source": [
    "Dic_grade = {\"A\": 1, \n",
    "            \"B\": 2, \n",
    "            \"C\": 3, \n",
    "            \"D\": 4, \n",
    "            \"E\": 5,\n",
    "            \"F\": 6, \n",
    "            \"G\": 7}"
   ]
  },
  {
   "cell_type": "code",
   "execution_count": 48,
   "metadata": {},
   "outputs": [],
   "source": [
    "df.grade = df.grade.map(Dic_grade)"
   ]
  },
  {
   "cell_type": "code",
   "execution_count": 49,
   "metadata": {},
   "outputs": [],
   "source": [
    "df.subgrade = df.subgrade.apply(lambda x: (Dic_grade[x[0]] - 1) * 5 + int(x[1]))"
   ]
  },
  {
   "cell_type": "code",
   "execution_count": 50,
   "metadata": {},
   "outputs": [],
   "source": [
    "ob_feature.remove('grade')\n",
    "num_feature.append('grade')\n",
    "ob_feature.remove('subgrade')\n",
    "num_feature.append('subgrade')"
   ]
  },
  {
   "cell_type": "code",
   "execution_count": 51,
   "metadata": {},
   "outputs": [
    {
     "name": "stdout",
     "output_type": "stream",
     "text": [
      "7 63\n"
     ]
    }
   ],
   "source": [
    "print(len(ob_feature), len(num_feature))"
   ]
  },
  {
   "cell_type": "markdown",
   "metadata": {},
   "source": [
    "### High cardinality feature encoding"
   ]
  },
  {
   "cell_type": "markdown",
   "metadata": {},
   "source": [
    "###### Zip Code - frequency encoding "
   ]
  },
  {
   "cell_type": "code",
   "execution_count": 52,
   "metadata": {},
   "outputs": [
    {
     "name": "stdout",
     "output_type": "stream",
     "text": [
      "850 ['937xx' '077xx' '850xx' '982xx' '144xx']\n"
     ]
    }
   ],
   "source": [
    "print(df.zipcode.nunique(), df.zipcode.unique()[:5])"
   ]
  },
  {
   "cell_type": "code",
   "execution_count": 53,
   "metadata": {},
   "outputs": [],
   "source": [
    "# convert zipcode to int\n",
    "df.zipcode = df.zipcode.apply(lambda x: int(x[0:3]))"
   ]
  },
  {
   "cell_type": "code",
   "execution_count": 54,
   "metadata": {},
   "outputs": [
    {
     "data": {
      "text/plain": [
       "0    937\n",
       "2     77\n",
       "3    850\n",
       "6    982\n",
       "7    144\n",
       "Name: zipcode, dtype: int64"
      ]
     },
     "execution_count": 54,
     "metadata": {},
     "output_type": "execute_result"
    }
   ],
   "source": [
    "df.zipcode[:5]"
   ]
  },
  {
   "cell_type": "code",
   "execution_count": 55,
   "metadata": {},
   "outputs": [],
   "source": [
    "zipcode_freq = df.groupby(\"zipcode\").size().reset_index()"
   ]
  },
  {
   "cell_type": "code",
   "execution_count": 56,
   "metadata": {},
   "outputs": [
    {
     "data": {
      "text/html": [
       "<div>\n",
       "<style scoped>\n",
       "    .dataframe tbody tr th:only-of-type {\n",
       "        vertical-align: middle;\n",
       "    }\n",
       "\n",
       "    .dataframe tbody tr th {\n",
       "        vertical-align: top;\n",
       "    }\n",
       "\n",
       "    .dataframe thead th {\n",
       "        text-align: right;\n",
       "    }\n",
       "</style>\n",
       "<table border=\"1\" class=\"dataframe\">\n",
       "  <thead>\n",
       "    <tr style=\"text-align: right;\">\n",
       "      <th></th>\n",
       "      <th>zipcode</th>\n",
       "      <th>0</th>\n",
       "    </tr>\n",
       "  </thead>\n",
       "  <tbody>\n",
       "    <tr>\n",
       "      <th>0</th>\n",
       "      <td>8</td>\n",
       "      <td>1</td>\n",
       "    </tr>\n",
       "    <tr>\n",
       "      <th>1</th>\n",
       "      <td>10</td>\n",
       "      <td>180</td>\n",
       "    </tr>\n",
       "    <tr>\n",
       "      <th>2</th>\n",
       "      <td>11</td>\n",
       "      <td>46</td>\n",
       "    </tr>\n",
       "    <tr>\n",
       "      <th>3</th>\n",
       "      <td>12</td>\n",
       "      <td>47</td>\n",
       "    </tr>\n",
       "    <tr>\n",
       "      <th>4</th>\n",
       "      <td>13</td>\n",
       "      <td>32</td>\n",
       "    </tr>\n",
       "  </tbody>\n",
       "</table>\n",
       "</div>"
      ],
      "text/plain": [
       "   zipcode    0\n",
       "0        8    1\n",
       "1       10  180\n",
       "2       11   46\n",
       "3       12   47\n",
       "4       13   32"
      ]
     },
     "execution_count": 56,
     "metadata": {},
     "output_type": "execute_result"
    }
   ],
   "source": [
    "zipcode_freq[:5]"
   ]
  },
  {
   "cell_type": "code",
   "execution_count": 57,
   "metadata": {},
   "outputs": [],
   "source": [
    "zipcode_freq.columns = [\"zipcode\", \"zipcode_freq\"]"
   ]
  },
  {
   "cell_type": "code",
   "execution_count": 58,
   "metadata": {},
   "outputs": [],
   "source": [
    "df = pd.merge(df, zipcode_freq, how = \"left\", on = \"zipcode\")"
   ]
  },
  {
   "cell_type": "code",
   "execution_count": 59,
   "metadata": {},
   "outputs": [
    {
     "data": {
      "text/plain": [
       "0    203\n",
       "1    288\n",
       "2    602\n",
       "3    381\n",
       "4    163\n",
       "Name: zipcode_freq, dtype: int64"
      ]
     },
     "execution_count": 59,
     "metadata": {},
     "output_type": "execute_result"
    }
   ],
   "source": [
    "df.zipcode_freq[:5]"
   ]
  },
  {
   "cell_type": "code",
   "execution_count": 60,
   "metadata": {},
   "outputs": [
    {
     "name": "stdout",
     "output_type": "stream",
     "text": [
      "6 65\n"
     ]
    }
   ],
   "source": [
    "ob_feature.remove('zipcode')\n",
    "num_feature.append('zipcode')\n",
    "num_feature.append('zipcode_freq')\n",
    "print(len(ob_feature), len(num_feature))"
   ]
  },
  {
   "cell_type": "markdown",
   "metadata": {},
   "source": [
    "### emptitle-frequency encoding (can do some NLP for later stage)"
   ]
  },
  {
   "cell_type": "code",
   "execution_count": 61,
   "metadata": {},
   "outputs": [],
   "source": [
    "emptitle_freq = df.groupby(\"emptitle\").size().reset_index()\n",
    "emptitle_freq.columns = [\"emptitle\", \"emptitle_freq\"]\n",
    "df = pd.merge(df, emptitle_freq, how = \"left\", on = \"emptitle\")"
   ]
  },
  {
   "cell_type": "code",
   "execution_count": 62,
   "metadata": {},
   "outputs": [
    {
     "name": "stdout",
     "output_type": "stream",
     "text": [
      "5 66\n"
     ]
    }
   ],
   "source": [
    "ob_feature.remove('emptitle')\n",
    "num_feature.append('emptitle_freq')\n",
    "print(len(ob_feature), len(num_feature))"
   ]
  },
  {
   "cell_type": "markdown",
   "metadata": {},
   "source": [
    "###### Addr_state - frequency encoding"
   ]
  },
  {
   "cell_type": "code",
   "execution_count": 63,
   "metadata": {},
   "outputs": [],
   "source": [
    "addrstate_freq = df.groupby(\"addrstate\").size().reset_index()\n",
    "addrstate_freq.columns = [\"addrstate\", \"addrstate_freq\"]\n",
    "df = pd.merge(df, addrstate_freq, how = \"left\", on = \"addrstate\")\n"
   ]
  },
  {
   "cell_type": "code",
   "execution_count": 64,
   "metadata": {},
   "outputs": [
    {
     "name": "stdout",
     "output_type": "stream",
     "text": [
      "4 67\n"
     ]
    }
   ],
   "source": [
    "ob_feature.remove('addrstate')\n",
    "num_feature.append('addrstate_freq')\n",
    "print(len(ob_feature), len(num_feature))"
   ]
  },
  {
   "cell_type": "markdown",
   "metadata": {},
   "source": [
    "#### One hot encoding"
   ]
  },
  {
   "cell_type": "code",
   "execution_count": 65,
   "metadata": {},
   "outputs": [],
   "source": [
    "dummy_feature = [\"homeownership\", \"verificationstatus\", \"purpose\", \"initialliststatus\"]"
   ]
  },
  {
   "cell_type": "code",
   "execution_count": 66,
   "metadata": {},
   "outputs": [],
   "source": [
    "df_dummy = pd.get_dummies(df[dummy_feature])"
   ]
  },
  {
   "cell_type": "code",
   "execution_count": 67,
   "metadata": {},
   "outputs": [],
   "source": [
    "OHE_feature = list(df_dummy.columns.values)"
   ]
  },
  {
   "cell_type": "code",
   "execution_count": 68,
   "metadata": {},
   "outputs": [
    {
     "data": {
      "text/plain": [
       "22"
      ]
     },
     "execution_count": 68,
     "metadata": {},
     "output_type": "execute_result"
    }
   ],
   "source": [
    "len(OHE_feature)"
   ]
  },
  {
   "cell_type": "code",
   "execution_count": 69,
   "metadata": {},
   "outputs": [],
   "source": [
    "df = pd.concat([df,df_dummy], axis=1)"
   ]
  },
  {
   "cell_type": "code",
   "execution_count": 70,
   "metadata": {},
   "outputs": [
    {
     "data": {
      "text/plain": [
       "(129487, 101)"
      ]
     },
     "execution_count": 70,
     "metadata": {},
     "output_type": "execute_result"
    }
   ],
   "source": [
    "df.shape"
   ]
  },
  {
   "cell_type": "code",
   "execution_count": 71,
   "metadata": {},
   "outputs": [],
   "source": [
    "for feat in dummy_feature:    \n",
    "    ob_feature.remove(feat)"
   ]
  },
  {
   "cell_type": "code",
   "execution_count": 72,
   "metadata": {},
   "outputs": [
    {
     "data": {
      "text/plain": [
       "0"
      ]
     },
     "execution_count": 72,
     "metadata": {},
     "output_type": "execute_result"
    }
   ],
   "source": [
    "len(ob_feature)"
   ]
  },
  {
   "cell_type": "code",
   "execution_count": 73,
   "metadata": {},
   "outputs": [],
   "source": [
    "select_feature = num_feature + OHE_feature"
   ]
  },
  {
   "cell_type": "code",
   "execution_count": 74,
   "metadata": {},
   "outputs": [
    {
     "data": {
      "text/plain": [
       "89"
      ]
     },
     "execution_count": 74,
     "metadata": {},
     "output_type": "execute_result"
    }
   ],
   "source": [
    "len(select_feature)"
   ]
  },
  {
   "cell_type": "markdown",
   "metadata": {},
   "source": [
    "##  XGBoost "
   ]
  },
  {
   "cell_type": "code",
   "execution_count": 75,
   "metadata": {},
   "outputs": [
    {
     "name": "stdout",
     "output_type": "stream",
     "text": [
      "['bcopentobuy', 'numactvbctl', 'mthssincelastrecord', 'totcurbal', 'totalbalexmort', 'mosinrcnttl', 'mortacc', 'mthssincelastdelinq', 'numactvrevtl', 'tothicredlim', 'ficorangehigh', 'bcutil', 'numbctl', 'totalrevhilim', 'totcollamt', 'numtl120dpd2m', 'ficorangelow', 'totalacc', 'mthssincerecentbcdlq', 'installment', 'numrevaccts', 'pubrec', 'accopenpast24mths', 'numoprevtl', 'avgcurbal', 'dti', 'delinq2yrs', 'mosinoldilacct', 'annualinc', 'numtl30dpd', 'loanamnt', 'numsats', 'mthssincerecentrevoldelinq', 'mthssincerecentbc', 'revolbal', 'inqlast6mths', 'totalilhighcreditlimit', 'collections12mthsexmed', 'chargeoffwithin12mths', 'numtl90gdpd24m', 'delinqamnt', 'mosinoldrevtlop', 'taxliens', 'numbcsats', 'totalbclimit', 'numacctsever120pd', 'accnowdelinq', 'pcttlnvrdlq', 'mthssincerecentinq', 'numiltl', 'mosinrcntrevtlop', 'openacc', 'numrevtlbalgt0', 'mthssincelastmajorderog', 'numtloppast12m', 'percentbcgt75', 'pubrecbankruptcies', 'earliestcrline_month', 'emplength', 'intrate', 'revolutil', 'grade', 'subgrade', 'zipcode', 'zipcode_freq', 'emptitle_freq', 'addrstate_freq', 'homeownership_ANY', 'homeownership_MORTGAGE', 'homeownership_OWN', 'homeownership_RENT', 'verificationstatus_Not Verified', 'verificationstatus_Source Verified', 'verificationstatus_Verified', 'purpose_car', 'purpose_credit_card', 'purpose_debt_consolidation', 'purpose_home_improvement', 'purpose_house', 'purpose_major_purchase', 'purpose_medical', 'purpose_moving', 'purpose_other', 'purpose_renewable_energy', 'purpose_small_business', 'purpose_vacation', 'purpose_wedding', 'initialliststatus_f', 'initialliststatus_w']\n"
     ]
    }
   ],
   "source": [
    "feat = select_feature\n",
    "print(feat)"
   ]
  },
  {
   "cell_type": "markdown",
   "metadata": {},
   "source": [
    "### Preliminary manually parameter tuning based on stratified train-test split"
   ]
  },
  {
   "cell_type": "code",
   "execution_count": 76,
   "metadata": {},
   "outputs": [
    {
     "name": "stderr",
     "output_type": "stream",
     "text": [
      "/anaconda3/lib/python3.6/site-packages/sklearn/cross_validation.py:41: DeprecationWarning: This module was deprecated in version 0.18 in favor of the model_selection module into which all the refactored classes and functions are moved. Also note that the interface of the new CV iterators are different from that of this module. This module will be removed in 0.20.\n",
      "  \"This module will be removed in 0.20.\", DeprecationWarning)\n"
     ]
    }
   ],
   "source": [
    "from sklearn.cross_validation import StratifiedKFold\n",
    "from sklearn.cross_validation import train_test_split\n",
    "#Kfolds = StratifiedKFold(df_all['loan_status'], n_folds = 3, shuffle=True, random_state=2019)"
   ]
  },
  {
   "cell_type": "code",
   "execution_count": 77,
   "metadata": {},
   "outputs": [],
   "source": [
    "df_train = df.query(\"train_flg == 1\")\n",
    "df_test = df.query(\"train_flg == 0\" )"
   ]
  },
  {
   "cell_type": "code",
   "execution_count": 78,
   "metadata": {},
   "outputs": [
    {
     "name": "stdout",
     "output_type": "stream",
     "text": [
      "(98997, 101) (30490, 101)\n"
     ]
    }
   ],
   "source": [
    "print(df_train.shape, df_test.shape)"
   ]
  },
  {
   "cell_type": "code",
   "execution_count": 79,
   "metadata": {},
   "outputs": [
    {
     "data": {
      "text/plain": [
       "(98997, 89)"
      ]
     },
     "execution_count": 79,
     "metadata": {},
     "output_type": "execute_result"
    }
   ],
   "source": [
    "df_train[feat].shape"
   ]
  },
  {
   "cell_type": "code",
   "execution_count": 80,
   "metadata": {},
   "outputs": [],
   "source": [
    "X_train, X_valid, y_train, y_valid = train_test_split(df_train[feat], df_train.loanstatus, \n",
    "                                                      test_size=0.3, random_state=2014, \n",
    "                                                      stratify = df_train.loanstatus )"
   ]
  },
  {
   "cell_type": "code",
   "execution_count": 81,
   "metadata": {},
   "outputs": [],
   "source": [
    "X_test, y_test = df_test[feat], df_test.loanstatus"
   ]
  },
  {
   "cell_type": "code",
   "execution_count": 82,
   "metadata": {},
   "outputs": [],
   "source": [
    "dtrain = xgb.DMatrix(X_train, y_train, missing = np.NAN)\n",
    "dvalid = xgb.DMatrix(X_valid, y_valid, missing = np.NAN)\n",
    "dtest = xgb.DMatrix(X_test, y_test, missing = np.NAN)"
   ]
  },
  {
   "cell_type": "code",
   "execution_count": 83,
   "metadata": {},
   "outputs": [],
   "source": [
    "params = {\"objective\": \"binary:logistic\", \n",
    "          \"booster\" : \"gbtree\", \n",
    "          \"eta\": 0.05, \n",
    "          \"max_depth\": 6, \n",
    "          \"subsample\": 0.632, \n",
    "          \"colsample_bytree\": 0.7,\n",
    "          #\"colsample_bylevel\": 0.6,\n",
    "          \"silent\": 1, \n",
    "          \"seed\": 1234, \n",
    "          \"eval_metric\": \"auc\",\n",
    "          #\"gamma\": 1, \n",
    "          \"min_child_weight\": 5} "
   ]
  },
  {
   "cell_type": "code",
   "execution_count": 84,
   "metadata": {},
   "outputs": [
    {
     "name": "stdout",
     "output_type": "stream",
     "text": [
      "[0]\ttrain-auc:0.67597\teval-auc:0.659669\n",
      "Multiple eval metrics have been passed: 'eval-auc' will be used for early stopping.\n",
      "\n",
      "Will train until eval-auc hasn't improved in 50 rounds.\n",
      "[1]\ttrain-auc:0.686924\teval-auc:0.666362\n",
      "[2]\ttrain-auc:0.693525\teval-auc:0.670444\n",
      "[3]\ttrain-auc:0.698975\teval-auc:0.673936\n",
      "[4]\ttrain-auc:0.702113\teval-auc:0.675749\n",
      "[5]\ttrain-auc:0.704638\teval-auc:0.677218\n",
      "[6]\ttrain-auc:0.705755\teval-auc:0.678352\n",
      "[7]\ttrain-auc:0.707391\teval-auc:0.67889\n",
      "[8]\ttrain-auc:0.708948\teval-auc:0.678655\n",
      "[9]\ttrain-auc:0.710025\teval-auc:0.67982\n",
      "[10]\ttrain-auc:0.710295\teval-auc:0.680266\n",
      "[11]\ttrain-auc:0.711052\teval-auc:0.680832\n",
      "[12]\ttrain-auc:0.711872\teval-auc:0.681465\n",
      "[13]\ttrain-auc:0.712352\teval-auc:0.681887\n",
      "[14]\ttrain-auc:0.712728\teval-auc:0.682049\n",
      "[15]\ttrain-auc:0.713132\teval-auc:0.681869\n",
      "[16]\ttrain-auc:0.71403\teval-auc:0.682248\n",
      "[17]\ttrain-auc:0.714429\teval-auc:0.682248\n",
      "[18]\ttrain-auc:0.714945\teval-auc:0.682529\n",
      "[19]\ttrain-auc:0.715328\teval-auc:0.682456\n",
      "[20]\ttrain-auc:0.715673\teval-auc:0.682903\n",
      "[21]\ttrain-auc:0.716424\teval-auc:0.682994\n",
      "[22]\ttrain-auc:0.717066\teval-auc:0.683249\n",
      "[23]\ttrain-auc:0.717548\teval-auc:0.683519\n",
      "[24]\ttrain-auc:0.718342\teval-auc:0.683899\n",
      "[25]\ttrain-auc:0.71895\teval-auc:0.684012\n",
      "[26]\ttrain-auc:0.719405\teval-auc:0.684048\n",
      "[27]\ttrain-auc:0.720043\teval-auc:0.684566\n",
      "[28]\ttrain-auc:0.721179\teval-auc:0.684784\n",
      "[29]\ttrain-auc:0.721663\teval-auc:0.68515\n",
      "[30]\ttrain-auc:0.722192\teval-auc:0.685392\n",
      "[31]\ttrain-auc:0.722844\teval-auc:0.685592\n",
      "[32]\ttrain-auc:0.723881\teval-auc:0.685828\n",
      "[33]\ttrain-auc:0.724297\teval-auc:0.685928\n",
      "[34]\ttrain-auc:0.724836\teval-auc:0.68604\n",
      "[35]\ttrain-auc:0.725216\teval-auc:0.685961\n",
      "[36]\ttrain-auc:0.725502\teval-auc:0.685931\n",
      "[37]\ttrain-auc:0.725998\teval-auc:0.685938\n",
      "[38]\ttrain-auc:0.726367\teval-auc:0.686234\n",
      "[39]\ttrain-auc:0.726761\teval-auc:0.686307\n",
      "[40]\ttrain-auc:0.727499\teval-auc:0.68643\n",
      "[41]\ttrain-auc:0.728401\teval-auc:0.68662\n",
      "[42]\ttrain-auc:0.729017\teval-auc:0.686868\n",
      "[43]\ttrain-auc:0.72933\teval-auc:0.687165\n",
      "[44]\ttrain-auc:0.73022\teval-auc:0.68742\n",
      "[45]\ttrain-auc:0.730703\teval-auc:0.687529\n",
      "[46]\ttrain-auc:0.731253\teval-auc:0.687752\n",
      "[47]\ttrain-auc:0.731577\teval-auc:0.688038\n",
      "[48]\ttrain-auc:0.732032\teval-auc:0.688313\n",
      "[49]\ttrain-auc:0.732425\teval-auc:0.688553\n",
      "[50]\ttrain-auc:0.733133\teval-auc:0.688619\n",
      "[51]\ttrain-auc:0.733814\teval-auc:0.688662\n",
      "[52]\ttrain-auc:0.734668\teval-auc:0.688932\n",
      "[53]\ttrain-auc:0.73513\teval-auc:0.689065\n",
      "[54]\ttrain-auc:0.7358\teval-auc:0.689266\n",
      "[55]\ttrain-auc:0.736231\teval-auc:0.689419\n",
      "[56]\ttrain-auc:0.73663\teval-auc:0.689515\n",
      "[57]\ttrain-auc:0.737219\teval-auc:0.689747\n",
      "[58]\ttrain-auc:0.737708\teval-auc:0.689962\n",
      "[59]\ttrain-auc:0.738209\teval-auc:0.69006\n",
      "[60]\ttrain-auc:0.738815\teval-auc:0.690171\n",
      "[61]\ttrain-auc:0.739297\teval-auc:0.690204\n",
      "[62]\ttrain-auc:0.739709\teval-auc:0.690421\n",
      "[63]\ttrain-auc:0.740412\teval-auc:0.690615\n",
      "[64]\ttrain-auc:0.741317\teval-auc:0.690895\n",
      "[65]\ttrain-auc:0.741994\teval-auc:0.690896\n",
      "[66]\ttrain-auc:0.742867\teval-auc:0.691149\n",
      "[67]\ttrain-auc:0.743509\teval-auc:0.691271\n",
      "[68]\ttrain-auc:0.744101\teval-auc:0.691396\n",
      "[69]\ttrain-auc:0.744895\teval-auc:0.691524\n",
      "[70]\ttrain-auc:0.745593\teval-auc:0.691795\n",
      "[71]\ttrain-auc:0.746177\teval-auc:0.691822\n",
      "[72]\ttrain-auc:0.746719\teval-auc:0.692126\n",
      "[73]\ttrain-auc:0.747247\teval-auc:0.692086\n",
      "[74]\ttrain-auc:0.74801\teval-auc:0.6922\n",
      "[75]\ttrain-auc:0.748525\teval-auc:0.692306\n",
      "[76]\ttrain-auc:0.749132\teval-auc:0.692299\n",
      "[77]\ttrain-auc:0.749802\teval-auc:0.692513\n",
      "[78]\ttrain-auc:0.750306\teval-auc:0.692597\n",
      "[79]\ttrain-auc:0.751058\teval-auc:0.692701\n",
      "[80]\ttrain-auc:0.751691\teval-auc:0.692891\n",
      "[81]\ttrain-auc:0.751896\teval-auc:0.692915\n",
      "[82]\ttrain-auc:0.752237\teval-auc:0.693004\n",
      "[83]\ttrain-auc:0.752723\teval-auc:0.693093\n",
      "[84]\ttrain-auc:0.753507\teval-auc:0.693345\n",
      "[85]\ttrain-auc:0.754226\teval-auc:0.693531\n",
      "[86]\ttrain-auc:0.754839\teval-auc:0.693447\n",
      "[87]\ttrain-auc:0.755168\teval-auc:0.693495\n",
      "[88]\ttrain-auc:0.755392\teval-auc:0.693507\n",
      "[89]\ttrain-auc:0.755679\teval-auc:0.693665\n",
      "[90]\ttrain-auc:0.756321\teval-auc:0.6937\n",
      "[91]\ttrain-auc:0.75678\teval-auc:0.693889\n",
      "[92]\ttrain-auc:0.757495\teval-auc:0.693976\n",
      "[93]\ttrain-auc:0.757983\teval-auc:0.694173\n",
      "[94]\ttrain-auc:0.758189\teval-auc:0.694319\n",
      "[95]\ttrain-auc:0.758635\teval-auc:0.694281\n",
      "[96]\ttrain-auc:0.759176\teval-auc:0.694545\n",
      "[97]\ttrain-auc:0.759971\teval-auc:0.69452\n",
      "[98]\ttrain-auc:0.760494\teval-auc:0.694668\n",
      "[99]\ttrain-auc:0.76096\teval-auc:0.694808\n",
      "[100]\ttrain-auc:0.761392\teval-auc:0.69487\n",
      "[101]\ttrain-auc:0.761889\teval-auc:0.694893\n",
      "[102]\ttrain-auc:0.762355\teval-auc:0.69501\n",
      "[103]\ttrain-auc:0.763036\teval-auc:0.69506\n",
      "[104]\ttrain-auc:0.763457\teval-auc:0.695079\n",
      "[105]\ttrain-auc:0.763545\teval-auc:0.695159\n",
      "[106]\ttrain-auc:0.764018\teval-auc:0.695304\n",
      "[107]\ttrain-auc:0.764853\teval-auc:0.695597\n",
      "[108]\ttrain-auc:0.765491\teval-auc:0.695532\n",
      "[109]\ttrain-auc:0.765905\teval-auc:0.695682\n",
      "[110]\ttrain-auc:0.766464\teval-auc:0.695649\n",
      "[111]\ttrain-auc:0.766861\teval-auc:0.695594\n",
      "[112]\ttrain-auc:0.767218\teval-auc:0.695667\n",
      "[113]\ttrain-auc:0.767835\teval-auc:0.695719\n",
      "[114]\ttrain-auc:0.768214\teval-auc:0.695857\n",
      "[115]\ttrain-auc:0.768871\teval-auc:0.696054\n",
      "[116]\ttrain-auc:0.769298\teval-auc:0.696261\n",
      "[117]\ttrain-auc:0.769778\teval-auc:0.696263\n",
      "[118]\ttrain-auc:0.770324\teval-auc:0.696383\n",
      "[119]\ttrain-auc:0.770895\teval-auc:0.696522\n",
      "[120]\ttrain-auc:0.771305\teval-auc:0.696577\n",
      "[121]\ttrain-auc:0.771557\teval-auc:0.696566\n",
      "[122]\ttrain-auc:0.772002\teval-auc:0.69651\n",
      "[123]\ttrain-auc:0.772437\teval-auc:0.696545\n",
      "[124]\ttrain-auc:0.772875\teval-auc:0.696547\n",
      "[125]\ttrain-auc:0.773403\teval-auc:0.696707\n",
      "[126]\ttrain-auc:0.773832\teval-auc:0.696675\n",
      "[127]\ttrain-auc:0.774115\teval-auc:0.69679\n",
      "[128]\ttrain-auc:0.774485\teval-auc:0.696887\n",
      "[129]\ttrain-auc:0.774923\teval-auc:0.696933\n",
      "[130]\ttrain-auc:0.775391\teval-auc:0.69694\n",
      "[131]\ttrain-auc:0.775831\teval-auc:0.696956\n",
      "[132]\ttrain-auc:0.775928\teval-auc:0.697011\n",
      "[133]\ttrain-auc:0.776177\teval-auc:0.697044\n",
      "[134]\ttrain-auc:0.776805\teval-auc:0.696955\n",
      "[135]\ttrain-auc:0.777147\teval-auc:0.697071\n",
      "[136]\ttrain-auc:0.777676\teval-auc:0.697088\n",
      "[137]\ttrain-auc:0.778456\teval-auc:0.697151\n",
      "[138]\ttrain-auc:0.779012\teval-auc:0.697159\n",
      "[139]\ttrain-auc:0.779558\teval-auc:0.69729\n",
      "[140]\ttrain-auc:0.779836\teval-auc:0.697324\n",
      "[141]\ttrain-auc:0.780054\teval-auc:0.697254\n",
      "[142]\ttrain-auc:0.780331\teval-auc:0.697228\n",
      "[143]\ttrain-auc:0.780813\teval-auc:0.697196\n",
      "[144]\ttrain-auc:0.781491\teval-auc:0.697183\n",
      "[145]\ttrain-auc:0.781742\teval-auc:0.697221\n",
      "[146]\ttrain-auc:0.782362\teval-auc:0.697272\n",
      "[147]\ttrain-auc:0.782507\teval-auc:0.697265\n",
      "[148]\ttrain-auc:0.782636\teval-auc:0.697254\n",
      "[149]\ttrain-auc:0.783045\teval-auc:0.69725\n",
      "[150]\ttrain-auc:0.783311\teval-auc:0.697286\n",
      "[151]\ttrain-auc:0.783698\teval-auc:0.697226\n",
      "[152]\ttrain-auc:0.784223\teval-auc:0.697376\n",
      "[153]\ttrain-auc:0.784466\teval-auc:0.697366\n",
      "[154]\ttrain-auc:0.785091\teval-auc:0.697512\n",
      "[155]\ttrain-auc:0.785581\teval-auc:0.697503\n",
      "[156]\ttrain-auc:0.786285\teval-auc:0.697575\n",
      "[157]\ttrain-auc:0.786524\teval-auc:0.697605\n",
      "[158]\ttrain-auc:0.786952\teval-auc:0.697634\n",
      "[159]\ttrain-auc:0.787371\teval-auc:0.697603\n",
      "[160]\ttrain-auc:0.787567\teval-auc:0.697602\n",
      "[161]\ttrain-auc:0.788023\teval-auc:0.697724\n",
      "[162]\ttrain-auc:0.788256\teval-auc:0.697728\n",
      "[163]\ttrain-auc:0.788542\teval-auc:0.697722\n",
      "[164]\ttrain-auc:0.788906\teval-auc:0.697765\n",
      "[165]\ttrain-auc:0.789052\teval-auc:0.697791\n",
      "[166]\ttrain-auc:0.789345\teval-auc:0.697848\n",
      "[167]\ttrain-auc:0.790083\teval-auc:0.697812\n",
      "[168]\ttrain-auc:0.790484\teval-auc:0.698018\n",
      "[169]\ttrain-auc:0.791019\teval-auc:0.698096\n",
      "[170]\ttrain-auc:0.7913\teval-auc:0.698173\n",
      "[171]\ttrain-auc:0.791708\teval-auc:0.698138\n",
      "[172]\ttrain-auc:0.792326\teval-auc:0.697946\n",
      "[173]\ttrain-auc:0.792963\teval-auc:0.698029\n",
      "[174]\ttrain-auc:0.793168\teval-auc:0.69804\n",
      "[175]\ttrain-auc:0.793293\teval-auc:0.698039\n",
      "[176]\ttrain-auc:0.793453\teval-auc:0.698043\n",
      "[177]\ttrain-auc:0.793835\teval-auc:0.698043\n",
      "[178]\ttrain-auc:0.794249\teval-auc:0.697931\n",
      "[179]\ttrain-auc:0.794576\teval-auc:0.698024\n",
      "[180]\ttrain-auc:0.795156\teval-auc:0.698114\n",
      "[181]\ttrain-auc:0.795608\teval-auc:0.698173\n",
      "[182]\ttrain-auc:0.795787\teval-auc:0.698138\n",
      "[183]\ttrain-auc:0.79612\teval-auc:0.698289\n",
      "[184]\ttrain-auc:0.7963\teval-auc:0.698251\n",
      "[185]\ttrain-auc:0.796806\teval-auc:0.698117\n",
      "[186]\ttrain-auc:0.797351\teval-auc:0.698066\n",
      "[187]\ttrain-auc:0.797546\teval-auc:0.698075\n",
      "[188]\ttrain-auc:0.798187\teval-auc:0.698066\n",
      "[189]\ttrain-auc:0.798504\teval-auc:0.698063\n",
      "[190]\ttrain-auc:0.798992\teval-auc:0.698187\n"
     ]
    },
    {
     "name": "stdout",
     "output_type": "stream",
     "text": [
      "[191]\ttrain-auc:0.799613\teval-auc:0.698164\n",
      "[192]\ttrain-auc:0.799912\teval-auc:0.698152\n",
      "[193]\ttrain-auc:0.800077\teval-auc:0.69821\n",
      "[194]\ttrain-auc:0.800238\teval-auc:0.698167\n",
      "[195]\ttrain-auc:0.800738\teval-auc:0.698217\n",
      "[196]\ttrain-auc:0.801048\teval-auc:0.698208\n",
      "[197]\ttrain-auc:0.801404\teval-auc:0.698172\n",
      "[198]\ttrain-auc:0.801842\teval-auc:0.698139\n",
      "[199]\ttrain-auc:0.802552\teval-auc:0.698089\n",
      "[200]\ttrain-auc:0.803268\teval-auc:0.69808\n",
      "[201]\ttrain-auc:0.803694\teval-auc:0.69796\n",
      "[202]\ttrain-auc:0.804128\teval-auc:0.697895\n",
      "[203]\ttrain-auc:0.804644\teval-auc:0.697829\n",
      "[204]\ttrain-auc:0.804796\teval-auc:0.697794\n",
      "[205]\ttrain-auc:0.805156\teval-auc:0.697779\n",
      "[206]\ttrain-auc:0.805645\teval-auc:0.697775\n",
      "[207]\ttrain-auc:0.805748\teval-auc:0.697816\n",
      "[208]\ttrain-auc:0.806227\teval-auc:0.697717\n",
      "[209]\ttrain-auc:0.806677\teval-auc:0.697837\n",
      "[210]\ttrain-auc:0.80749\teval-auc:0.697814\n",
      "[211]\ttrain-auc:0.807879\teval-auc:0.697735\n",
      "[212]\ttrain-auc:0.808373\teval-auc:0.697766\n",
      "[213]\ttrain-auc:0.808891\teval-auc:0.697862\n",
      "[214]\ttrain-auc:0.809075\teval-auc:0.697929\n",
      "[215]\ttrain-auc:0.809238\teval-auc:0.697932\n",
      "[216]\ttrain-auc:0.809362\teval-auc:0.697905\n",
      "[217]\ttrain-auc:0.810141\teval-auc:0.697864\n",
      "[218]\ttrain-auc:0.810601\teval-auc:0.697782\n",
      "[219]\ttrain-auc:0.810681\teval-auc:0.697777\n",
      "[220]\ttrain-auc:0.8109\teval-auc:0.697726\n",
      "[221]\ttrain-auc:0.811189\teval-auc:0.697757\n",
      "[222]\ttrain-auc:0.811552\teval-auc:0.697819\n",
      "[223]\ttrain-auc:0.811968\teval-auc:0.697863\n",
      "[224]\ttrain-auc:0.812109\teval-auc:0.697766\n",
      "[225]\ttrain-auc:0.812488\teval-auc:0.69776\n",
      "[226]\ttrain-auc:0.812746\teval-auc:0.697731\n",
      "[227]\ttrain-auc:0.813107\teval-auc:0.697696\n",
      "[228]\ttrain-auc:0.813361\teval-auc:0.697709\n",
      "[229]\ttrain-auc:0.8137\teval-auc:0.697744\n",
      "[230]\ttrain-auc:0.813955\teval-auc:0.697736\n",
      "[231]\ttrain-auc:0.814418\teval-auc:0.69771\n",
      "[232]\ttrain-auc:0.814865\teval-auc:0.697779\n",
      "[233]\ttrain-auc:0.815215\teval-auc:0.697742\n",
      "Stopping. Best iteration:\n",
      "[183]\ttrain-auc:0.79612\teval-auc:0.698289\n",
      "\n"
     ]
    }
   ],
   "source": [
    "watchlist = [(dtrain, 'train'), (dvalid, 'eval')]\n",
    "num_boost_round = 1500\n",
    "gbm = xgb.train(params, dtrain, num_boost_round, evals=watchlist, early_stopping_rounds=50)"
   ]
  },
  {
   "cell_type": "code",
   "execution_count": 85,
   "metadata": {},
   "outputs": [],
   "source": [
    "from sklearn.metrics import roc_curve, auc\n",
    "from sklearn import linear_model, datasets\n",
    "import pylab as pl\n",
    "def draw_ROC(model, dtrain, dvalid, dtest, y_train, y_valid, y_test):\n",
    "    probas_ = model.predict(dvalid, ntree_limit=model.best_ntree_limit)\n",
    "    probas_1 = model.predict(dtrain, ntree_limit=model.best_ntree_limit)\n",
    "    probas_2 = model.predict(dtest, ntree_limit=model.best_ntree_limit)\n",
    "    fpr, tpr, thresholds = roc_curve(y_valid, probas_)\n",
    "    fpr_1, tpr_1, thresholds_1 = roc_curve(y_train, probas_1)\n",
    "    fpr_2, tpr_2, thresholds_2 = roc_curve(y_test, probas_2)\n",
    "    roc_auc = auc(fpr, tpr)\n",
    "    roc_auc_1 = auc(fpr_1, tpr_1)\n",
    "    roc_auc_2 = auc(fpr_2, tpr_2)\n",
    "    print(\"Area under the ROC curve - validation: %f\" % roc_auc)\n",
    "    print(\"Area under the ROC curve - train: %f\" % roc_auc_1)\n",
    "    print(\"Area under the ROC curve - test: %f\" % roc_auc_2)\n",
    "    # Plot ROC curve\n",
    "    plt.figure(figsize=(8,8))\n",
    "    plt.plot(fpr, tpr, label='ROC curve - test(AUC = %0.2f)' % roc_auc, color='r')\n",
    "    plt.plot(fpr_1, tpr_1, label='ROC curve - train (AUC = %0.2f)' % roc_auc_1, color='b')\n",
    "    plt.plot(fpr_2, tpr_2, label='ROC curve - train (AUC = %0.2f)' % roc_auc_2, color='g')\n",
    "    plt.plot([0, 1], [0, 1], 'k--')\n",
    "    plt.xlim([0.0, 1.0])\n",
    "    plt.ylim([0.0, 1.0])\n",
    "    plt.xlabel('False Positive Rate')\n",
    "    plt.ylabel('True Positive Rate')\n",
    "    plt.title('ROC for lead score model')\n",
    "    plt.legend(loc=\"lower right\")\n",
    "    plt.show()\n"
   ]
  },
  {
   "cell_type": "markdown",
   "metadata": {},
   "source": [
    "### ROC curve"
   ]
  },
  {
   "cell_type": "code",
   "execution_count": 86,
   "metadata": {},
   "outputs": [
    {
     "name": "stdout",
     "output_type": "stream",
     "text": [
      "Area under the ROC curve - validation: 0.698289\n",
      "Area under the ROC curve - train: 0.796120\n",
      "Area under the ROC curve - test: 0.708662\n"
     ]
    },
    {
     "data": {
      "image/png": "[encoded data removed]",
      "text/plain": [
       "<Figure size 576x576 with 1 Axes>"
      ]
     },
     "metadata": {},
     "output_type": "display_data"
    }
   ],
   "source": [
    "draw_ROC(gbm, dtrain, dvalid, dtest, y_train, y_valid, y_test)"
   ]
  },
  {
   "cell_type": "markdown",
   "metadata": {},
   "source": [
    "### Distribution of predicted values"
   ]
  },
  {
   "cell_type": "code",
   "execution_count": 87,
   "metadata": {},
   "outputs": [],
   "source": [
    "y_pred = gbm.predict(dtest)"
   ]
  },
  {
   "cell_type": "code",
   "execution_count": 88,
   "metadata": {},
   "outputs": [
    {
     "name": "stdout",
     "output_type": "stream",
     "text": [
      "0.776456 0.00777273 0.158766\n"
     ]
    }
   ],
   "source": [
    "print(y_pred.max(), y_pred.min(), y_pred.mean())"
   ]
  },
  {
   "cell_type": "markdown",
   "metadata": {},
   "source": [
    "### Feature importance"
   ]
  },
  {
   "cell_type": "code",
   "execution_count": 89,
   "metadata": {},
   "outputs": [],
   "source": [
    "importance = gbm.get_fscore()"
   ]
  },
  {
   "cell_type": "code",
   "execution_count": 90,
   "metadata": {
    "scrolled": true
   },
   "outputs": [
    {
     "data": {
      "text/plain": [
       "dict"
      ]
     },
     "execution_count": 90,
     "metadata": {},
     "output_type": "execute_result"
    }
   ],
   "source": [
    "type(importance)"
   ]
  },
  {
   "cell_type": "code",
   "execution_count": 91,
   "metadata": {
    "scrolled": true
   },
   "outputs": [],
   "source": [
    "df_importance = pd.DataFrame.from_dict(importance, orient='index').reset_index()\n",
    "df_importance.columns=['feature', 'fscore']\n",
    "#df_importance = pd.DataFrame(importance.items(), columns=['feature', 'fscore'])\n",
    "df_importance['fscore'] = df_importance['fscore'] / df_importance['fscore'].sum()"
   ]
  },
  {
   "cell_type": "code",
   "execution_count": 92,
   "metadata": {
    "scrolled": true
   },
   "outputs": [
    {
     "data": {
      "text/html": [
       "<div>\n",
       "<style scoped>\n",
       "    .dataframe tbody tr th:only-of-type {\n",
       "        vertical-align: middle;\n",
       "    }\n",
       "\n",
       "    .dataframe tbody tr th {\n",
       "        vertical-align: top;\n",
       "    }\n",
       "\n",
       "    .dataframe thead th {\n",
       "        text-align: right;\n",
       "    }\n",
       "</style>\n",
       "<table border=\"1\" class=\"dataframe\">\n",
       "  <thead>\n",
       "    <tr style=\"text-align: right;\">\n",
       "      <th></th>\n",
       "      <th>feature</th>\n",
       "      <th>fscore</th>\n",
       "    </tr>\n",
       "  </thead>\n",
       "  <tbody>\n",
       "    <tr>\n",
       "      <th>43</th>\n",
       "      <td>dti</td>\n",
       "      <td>0.044381</td>\n",
       "    </tr>\n",
       "    <tr>\n",
       "      <th>5</th>\n",
       "      <td>annualinc</td>\n",
       "      <td>0.038681</td>\n",
       "    </tr>\n",
       "    <tr>\n",
       "      <th>30</th>\n",
       "      <td>installment</td>\n",
       "      <td>0.036034</td>\n",
       "    </tr>\n",
       "    <tr>\n",
       "      <th>6</th>\n",
       "      <td>mosinoldilacct</td>\n",
       "      <td>0.033795</td>\n",
       "    </tr>\n",
       "    <tr>\n",
       "      <th>34</th>\n",
       "      <td>mosinoldrevtlop</td>\n",
       "      <td>0.031454</td>\n",
       "    </tr>\n",
       "    <tr>\n",
       "      <th>29</th>\n",
       "      <td>emptitle_freq</td>\n",
       "      <td>0.030334</td>\n",
       "    </tr>\n",
       "    <tr>\n",
       "      <th>25</th>\n",
       "      <td>zipcode_freq</td>\n",
       "      <td>0.028094</td>\n",
       "    </tr>\n",
       "    <tr>\n",
       "      <th>54</th>\n",
       "      <td>zipcode</td>\n",
       "      <td>0.027178</td>\n",
       "    </tr>\n",
       "    <tr>\n",
       "      <th>32</th>\n",
       "      <td>bcutil</td>\n",
       "      <td>0.026059</td>\n",
       "    </tr>\n",
       "    <tr>\n",
       "      <th>19</th>\n",
       "      <td>avgcurbal</td>\n",
       "      <td>0.025753</td>\n",
       "    </tr>\n",
       "    <tr>\n",
       "      <th>14</th>\n",
       "      <td>mthssincerecentbc</td>\n",
       "      <td>0.025651</td>\n",
       "    </tr>\n",
       "    <tr>\n",
       "      <th>21</th>\n",
       "      <td>revolutil</td>\n",
       "      <td>0.024532</td>\n",
       "    </tr>\n",
       "    <tr>\n",
       "      <th>18</th>\n",
       "      <td>earliestcrline_month</td>\n",
       "      <td>0.024430</td>\n",
       "    </tr>\n",
       "    <tr>\n",
       "      <th>7</th>\n",
       "      <td>totalrevhilim</td>\n",
       "      <td>0.024430</td>\n",
       "    </tr>\n",
       "    <tr>\n",
       "      <th>11</th>\n",
       "      <td>bcopentobuy</td>\n",
       "      <td>0.024328</td>\n",
       "    </tr>\n",
       "    <tr>\n",
       "      <th>10</th>\n",
       "      <td>accopenpast24mths</td>\n",
       "      <td>0.021783</td>\n",
       "    </tr>\n",
       "    <tr>\n",
       "      <th>15</th>\n",
       "      <td>tothicredlim</td>\n",
       "      <td>0.021274</td>\n",
       "    </tr>\n",
       "    <tr>\n",
       "      <th>1</th>\n",
       "      <td>intrate</td>\n",
       "      <td>0.020765</td>\n",
       "    </tr>\n",
       "    <tr>\n",
       "      <th>22</th>\n",
       "      <td>totalbclimit</td>\n",
       "      <td>0.020257</td>\n",
       "    </tr>\n",
       "    <tr>\n",
       "      <th>16</th>\n",
       "      <td>mthssincelastdelinq</td>\n",
       "      <td>0.020053</td>\n",
       "    </tr>\n",
       "    <tr>\n",
       "      <th>35</th>\n",
       "      <td>totalilhighcreditlimit</td>\n",
       "      <td>0.019748</td>\n",
       "    </tr>\n",
       "    <tr>\n",
       "      <th>52</th>\n",
       "      <td>totalbalexmort</td>\n",
       "      <td>0.019748</td>\n",
       "    </tr>\n",
       "    <tr>\n",
       "      <th>39</th>\n",
       "      <td>revolbal</td>\n",
       "      <td>0.019646</td>\n",
       "    </tr>\n",
       "    <tr>\n",
       "      <th>17</th>\n",
       "      <td>mthssincerecentinq</td>\n",
       "      <td>0.018933</td>\n",
       "    </tr>\n",
       "    <tr>\n",
       "      <th>26</th>\n",
       "      <td>mthssincelastmajorderog</td>\n",
       "      <td>0.018933</td>\n",
       "    </tr>\n",
       "    <tr>\n",
       "      <th>40</th>\n",
       "      <td>mthssincerecentbcdlq</td>\n",
       "      <td>0.017712</td>\n",
       "    </tr>\n",
       "    <tr>\n",
       "      <th>28</th>\n",
       "      <td>subgrade</td>\n",
       "      <td>0.017203</td>\n",
       "    </tr>\n",
       "    <tr>\n",
       "      <th>45</th>\n",
       "      <td>pcttlnvrdlq</td>\n",
       "      <td>0.016796</td>\n",
       "    </tr>\n",
       "    <tr>\n",
       "      <th>8</th>\n",
       "      <td>loanamnt</td>\n",
       "      <td>0.016490</td>\n",
       "    </tr>\n",
       "    <tr>\n",
       "      <th>53</th>\n",
       "      <td>totcurbal</td>\n",
       "      <td>0.016287</td>\n",
       "    </tr>\n",
       "    <tr>\n",
       "      <th>...</th>\n",
       "      <td>...</td>\n",
       "      <td>...</td>\n",
       "    </tr>\n",
       "    <tr>\n",
       "      <th>9</th>\n",
       "      <td>homeownership_RENT</td>\n",
       "      <td>0.004581</td>\n",
       "    </tr>\n",
       "    <tr>\n",
       "      <th>47</th>\n",
       "      <td>ficorangelow</td>\n",
       "      <td>0.004173</td>\n",
       "    </tr>\n",
       "    <tr>\n",
       "      <th>59</th>\n",
       "      <td>inqlast6mths</td>\n",
       "      <td>0.004173</td>\n",
       "    </tr>\n",
       "    <tr>\n",
       "      <th>0</th>\n",
       "      <td>grade</td>\n",
       "      <td>0.003766</td>\n",
       "    </tr>\n",
       "    <tr>\n",
       "      <th>23</th>\n",
       "      <td>delinq2yrs</td>\n",
       "      <td>0.003461</td>\n",
       "    </tr>\n",
       "    <tr>\n",
       "      <th>66</th>\n",
       "      <td>numacctsever120pd</td>\n",
       "      <td>0.002647</td>\n",
       "    </tr>\n",
       "    <tr>\n",
       "      <th>65</th>\n",
       "      <td>verificationstatus_Verified</td>\n",
       "      <td>0.002341</td>\n",
       "    </tr>\n",
       "    <tr>\n",
       "      <th>42</th>\n",
       "      <td>homeownership_MORTGAGE</td>\n",
       "      <td>0.002138</td>\n",
       "    </tr>\n",
       "    <tr>\n",
       "      <th>51</th>\n",
       "      <td>purpose_small_business</td>\n",
       "      <td>0.002138</td>\n",
       "    </tr>\n",
       "    <tr>\n",
       "      <th>75</th>\n",
       "      <td>purpose_debt_consolidation</td>\n",
       "      <td>0.001934</td>\n",
       "    </tr>\n",
       "    <tr>\n",
       "      <th>67</th>\n",
       "      <td>verificationstatus_Source Verified</td>\n",
       "      <td>0.001527</td>\n",
       "    </tr>\n",
       "    <tr>\n",
       "      <th>71</th>\n",
       "      <td>initialliststatus_f</td>\n",
       "      <td>0.001425</td>\n",
       "    </tr>\n",
       "    <tr>\n",
       "      <th>72</th>\n",
       "      <td>verificationstatus_Not Verified</td>\n",
       "      <td>0.001323</td>\n",
       "    </tr>\n",
       "    <tr>\n",
       "      <th>64</th>\n",
       "      <td>purpose_medical</td>\n",
       "      <td>0.000916</td>\n",
       "    </tr>\n",
       "    <tr>\n",
       "      <th>63</th>\n",
       "      <td>initialliststatus_w</td>\n",
       "      <td>0.000814</td>\n",
       "    </tr>\n",
       "    <tr>\n",
       "      <th>70</th>\n",
       "      <td>homeownership_OWN</td>\n",
       "      <td>0.000814</td>\n",
       "    </tr>\n",
       "    <tr>\n",
       "      <th>60</th>\n",
       "      <td>pubrecbankruptcies</td>\n",
       "      <td>0.000611</td>\n",
       "    </tr>\n",
       "    <tr>\n",
       "      <th>73</th>\n",
       "      <td>chargeoffwithin12mths</td>\n",
       "      <td>0.000611</td>\n",
       "    </tr>\n",
       "    <tr>\n",
       "      <th>74</th>\n",
       "      <td>purpose_home_improvement</td>\n",
       "      <td>0.000611</td>\n",
       "    </tr>\n",
       "    <tr>\n",
       "      <th>62</th>\n",
       "      <td>numtl90gdpd24m</td>\n",
       "      <td>0.000509</td>\n",
       "    </tr>\n",
       "    <tr>\n",
       "      <th>68</th>\n",
       "      <td>taxliens</td>\n",
       "      <td>0.000509</td>\n",
       "    </tr>\n",
       "    <tr>\n",
       "      <th>61</th>\n",
       "      <td>purpose_credit_card</td>\n",
       "      <td>0.000407</td>\n",
       "    </tr>\n",
       "    <tr>\n",
       "      <th>77</th>\n",
       "      <td>collections12mthsexmed</td>\n",
       "      <td>0.000407</td>\n",
       "    </tr>\n",
       "    <tr>\n",
       "      <th>58</th>\n",
       "      <td>purpose_other</td>\n",
       "      <td>0.000407</td>\n",
       "    </tr>\n",
       "    <tr>\n",
       "      <th>78</th>\n",
       "      <td>numtl120dpd2m</td>\n",
       "      <td>0.000305</td>\n",
       "    </tr>\n",
       "    <tr>\n",
       "      <th>69</th>\n",
       "      <td>pubrec</td>\n",
       "      <td>0.000204</td>\n",
       "    </tr>\n",
       "    <tr>\n",
       "      <th>81</th>\n",
       "      <td>accnowdelinq</td>\n",
       "      <td>0.000204</td>\n",
       "    </tr>\n",
       "    <tr>\n",
       "      <th>76</th>\n",
       "      <td>purpose_major_purchase</td>\n",
       "      <td>0.000102</td>\n",
       "    </tr>\n",
       "    <tr>\n",
       "      <th>79</th>\n",
       "      <td>purpose_vacation</td>\n",
       "      <td>0.000102</td>\n",
       "    </tr>\n",
       "    <tr>\n",
       "      <th>80</th>\n",
       "      <td>purpose_moving</td>\n",
       "      <td>0.000102</td>\n",
       "    </tr>\n",
       "  </tbody>\n",
       "</table>\n",
       "<p>82 rows × 2 columns</p>\n",
       "</div>"
      ],
      "text/plain": [
       "                               feature    fscore\n",
       "43                                 dti  0.044381\n",
       "5                            annualinc  0.038681\n",
       "30                         installment  0.036034\n",
       "6                       mosinoldilacct  0.033795\n",
       "34                     mosinoldrevtlop  0.031454\n",
       "29                       emptitle_freq  0.030334\n",
       "25                        zipcode_freq  0.028094\n",
       "54                             zipcode  0.027178\n",
       "32                              bcutil  0.026059\n",
       "19                           avgcurbal  0.025753\n",
       "14                   mthssincerecentbc  0.025651\n",
       "21                           revolutil  0.024532\n",
       "18                earliestcrline_month  0.024430\n",
       "7                        totalrevhilim  0.024430\n",
       "11                         bcopentobuy  0.024328\n",
       "10                   accopenpast24mths  0.021783\n",
       "15                        tothicredlim  0.021274\n",
       "1                              intrate  0.020765\n",
       "22                        totalbclimit  0.020257\n",
       "16                 mthssincelastdelinq  0.020053\n",
       "35              totalilhighcreditlimit  0.019748\n",
       "52                      totalbalexmort  0.019748\n",
       "39                            revolbal  0.019646\n",
       "17                  mthssincerecentinq  0.018933\n",
       "26             mthssincelastmajorderog  0.018933\n",
       "40                mthssincerecentbcdlq  0.017712\n",
       "28                            subgrade  0.017203\n",
       "45                         pcttlnvrdlq  0.016796\n",
       "8                             loanamnt  0.016490\n",
       "53                           totcurbal  0.016287\n",
       "..                                 ...       ...\n",
       "9                   homeownership_RENT  0.004581\n",
       "47                        ficorangelow  0.004173\n",
       "59                        inqlast6mths  0.004173\n",
       "0                                grade  0.003766\n",
       "23                          delinq2yrs  0.003461\n",
       "66                   numacctsever120pd  0.002647\n",
       "65         verificationstatus_Verified  0.002341\n",
       "42              homeownership_MORTGAGE  0.002138\n",
       "51              purpose_small_business  0.002138\n",
       "75          purpose_debt_consolidation  0.001934\n",
       "67  verificationstatus_Source Verified  0.001527\n",
       "71                 initialliststatus_f  0.001425\n",
       "72     verificationstatus_Not Verified  0.001323\n",
       "64                     purpose_medical  0.000916\n",
       "63                 initialliststatus_w  0.000814\n",
       "70                   homeownership_OWN  0.000814\n",
       "60                  pubrecbankruptcies  0.000611\n",
       "73               chargeoffwithin12mths  0.000611\n",
       "74            purpose_home_improvement  0.000611\n",
       "62                      numtl90gdpd24m  0.000509\n",
       "68                            taxliens  0.000509\n",
       "61                 purpose_credit_card  0.000407\n",
       "77              collections12mthsexmed  0.000407\n",
       "58                       purpose_other  0.000407\n",
       "78                       numtl120dpd2m  0.000305\n",
       "69                              pubrec  0.000204\n",
       "81                        accnowdelinq  0.000204\n",
       "76              purpose_major_purchase  0.000102\n",
       "79                    purpose_vacation  0.000102\n",
       "80                      purpose_moving  0.000102\n",
       "\n",
       "[82 rows x 2 columns]"
      ]
     },
     "execution_count": 92,
     "metadata": {},
     "output_type": "execute_result"
    }
   ],
   "source": [
    "df_importance.sort_values(['fscore'], ascending=False, inplace=True)\n",
    "df_importance"
   ]
  },
  {
   "cell_type": "code",
   "execution_count": 93,
   "metadata": {
    "scrolled": false
   },
   "outputs": [
    {
     "data": {
      "text/plain": [
       "<Figure size 2304x2304 with 0 Axes>"
      ]
     },
     "metadata": {},
     "output_type": "display_data"
    },
    {
     "data": {
      "image/png": "[encoded data removed]",
      "text/plain": [
       "<Figure size 432x720 with 1 Axes>"
      ]
     },
     "metadata": {},
     "output_type": "display_data"
    }
   ],
   "source": [
    "plt.figure(figsize=(32, 32))\n",
    "# df_importance.plot()\n",
    "df_importance[:20].plot(kind='barh', x='feature', y='fscore', legend=False, figsize=(6, 10))\n",
    "plt.title('XGBoost Feature Importance')\n",
    "plt.xlabel('relative importance')\n",
    "plt.gcf().savefig('feature_importance_xgb.png')"
   ]
  },
  {
   "cell_type": "code",
   "execution_count": 94,
   "metadata": {},
   "outputs": [
    {
     "data": {
      "text/html": [
       "<div>\n",
       "<style scoped>\n",
       "    .dataframe tbody tr th:only-of-type {\n",
       "        vertical-align: middle;\n",
       "    }\n",
       "\n",
       "    .dataframe tbody tr th {\n",
       "        vertical-align: top;\n",
       "    }\n",
       "\n",
       "    .dataframe thead th {\n",
       "        text-align: right;\n",
       "    }\n",
       "</style>\n",
       "<table border=\"1\" class=\"dataframe\">\n",
       "  <thead>\n",
       "    <tr style=\"text-align: right;\">\n",
       "      <th></th>\n",
       "      <th>feature</th>\n",
       "      <th>fscore</th>\n",
       "    </tr>\n",
       "  </thead>\n",
       "  <tbody>\n",
       "    <tr>\n",
       "      <th>0</th>\n",
       "      <td>grade</td>\n",
       "      <td>0.003766</td>\n",
       "    </tr>\n",
       "  </tbody>\n",
       "</table>\n",
       "</div>"
      ],
      "text/plain": [
       "  feature    fscore\n",
       "0   grade  0.003766"
      ]
     },
     "execution_count": 94,
     "metadata": {},
     "output_type": "execute_result"
    }
   ],
   "source": [
    "grade_importance = df_importance.query(\"feature=='grade'\")\n",
    "grade_importance"
   ]
  },
  {
   "cell_type": "code",
   "execution_count": 95,
   "metadata": {},
   "outputs": [
    {
     "data": {
      "text/html": [
       "<div>\n",
       "<style scoped>\n",
       "    .dataframe tbody tr th:only-of-type {\n",
       "        vertical-align: middle;\n",
       "    }\n",
       "\n",
       "    .dataframe tbody tr th {\n",
       "        vertical-align: top;\n",
       "    }\n",
       "\n",
       "    .dataframe thead th {\n",
       "        text-align: right;\n",
       "    }\n",
       "</style>\n",
       "<table border=\"1\" class=\"dataframe\">\n",
       "  <thead>\n",
       "    <tr style=\"text-align: right;\">\n",
       "      <th></th>\n",
       "      <th>feature</th>\n",
       "      <th>fscore</th>\n",
       "    </tr>\n",
       "  </thead>\n",
       "  <tbody>\n",
       "    <tr>\n",
       "      <th>28</th>\n",
       "      <td>subgrade</td>\n",
       "      <td>0.017203</td>\n",
       "    </tr>\n",
       "  </tbody>\n",
       "</table>\n",
       "</div>"
      ],
      "text/plain": [
       "     feature    fscore\n",
       "28  subgrade  0.017203"
      ]
     },
     "execution_count": 95,
     "metadata": {},
     "output_type": "execute_result"
    }
   ],
   "source": [
    "subgrade_importance = df_importance.query(\"feature=='subgrade'\")\n",
    "subgrade_importance"
   ]
  },
  {
   "cell_type": "code",
   "execution_count": 96,
   "metadata": {},
   "outputs": [
    {
     "data": {
      "text/html": [
       "<div>\n",
       "<style scoped>\n",
       "    .dataframe tbody tr th:only-of-type {\n",
       "        vertical-align: middle;\n",
       "    }\n",
       "\n",
       "    .dataframe tbody tr th {\n",
       "        vertical-align: top;\n",
       "    }\n",
       "\n",
       "    .dataframe thead th {\n",
       "        text-align: right;\n",
       "    }\n",
       "</style>\n",
       "<table border=\"1\" class=\"dataframe\">\n",
       "  <thead>\n",
       "    <tr style=\"text-align: right;\">\n",
       "      <th></th>\n",
       "      <th>feature</th>\n",
       "      <th>fscore</th>\n",
       "    </tr>\n",
       "  </thead>\n",
       "  <tbody>\n",
       "    <tr>\n",
       "      <th>1</th>\n",
       "      <td>intrate</td>\n",
       "      <td>0.020765</td>\n",
       "    </tr>\n",
       "  </tbody>\n",
       "</table>\n",
       "</div>"
      ],
      "text/plain": [
       "   feature    fscore\n",
       "1  intrate  0.020765"
      ]
     },
     "execution_count": 96,
     "metadata": {},
     "output_type": "execute_result"
    }
   ],
   "source": [
    "intrate_importance = df_importance.query(\"feature=='intrate'\")\n",
    "intrate_importance"
   ]
  },
  {
   "cell_type": "code",
   "execution_count": 97,
   "metadata": {},
   "outputs": [
    {
     "data": {
      "text/html": [
       "<div>\n",
       "<style scoped>\n",
       "    .dataframe tbody tr th:only-of-type {\n",
       "        vertical-align: middle;\n",
       "    }\n",
       "\n",
       "    .dataframe tbody tr th {\n",
       "        vertical-align: top;\n",
       "    }\n",
       "\n",
       "    .dataframe thead th {\n",
       "        text-align: right;\n",
       "    }\n",
       "</style>\n",
       "<table border=\"1\" class=\"dataframe\">\n",
       "  <thead>\n",
       "    <tr style=\"text-align: right;\">\n",
       "      <th></th>\n",
       "      <th>feature</th>\n",
       "      <th>fscore</th>\n",
       "    </tr>\n",
       "  </thead>\n",
       "  <tbody>\n",
       "    <tr>\n",
       "      <th>8</th>\n",
       "      <td>loanamnt</td>\n",
       "      <td>0.01649</td>\n",
       "    </tr>\n",
       "  </tbody>\n",
       "</table>\n",
       "</div>"
      ],
      "text/plain": [
       "    feature   fscore\n",
       "8  loanamnt  0.01649"
      ]
     },
     "execution_count": 97,
     "metadata": {},
     "output_type": "execute_result"
    }
   ],
   "source": [
    "df_importance.query(\"feature=='loanamnt'\")"
   ]
  },
  {
   "cell_type": "code",
   "execution_count": 98,
   "metadata": {},
   "outputs": [
    {
     "data": {
      "text/plain": [
       "Text(0.5,0,'relative importance')"
      ]
     },
     "execution_count": 98,
     "metadata": {},
     "output_type": "execute_result"
    },
    {
     "data": {
      "text/plain": [
       "<Figure size 2304x2304 with 0 Axes>"
      ]
     },
     "metadata": {},
     "output_type": "display_data"
    },
    {
     "data": {
      "image/png": "[encoded data removed]",
      "text/plain": [
       "<Figure size 432x720 with 1 Axes>"
      ]
     },
     "metadata": {},
     "output_type": "display_data"
    }
   ],
   "source": [
    "plt.figure(figsize=(32, 32))\n",
    "# df_importance.plot()\n",
    "df_importance.plot(kind='barh', x='feature', y='fscore', legend=False, figsize=(6, 10))\n",
    "plt.title('XGBoost Feature Importance')\n",
    "plt.xlabel('relative importance')"
   ]
  },
  {
   "cell_type": "markdown",
   "metadata": {},
   "source": [
    "## Save model"
   ]
  },
  {
   "cell_type": "code",
   "execution_count": 99,
   "metadata": {},
   "outputs": [],
   "source": [
    "import pickle"
   ]
  },
  {
   "cell_type": "code",
   "execution_count": 100,
   "metadata": {},
   "outputs": [],
   "source": [
    "pickle.dump(gbm, open('model.pkl', \"wb\"))"
   ]
  },
  {
   "cell_type": "code",
   "execution_count": 101,
   "metadata": {},
   "outputs": [
    {
     "data": {
      "text/plain": [
       "['pima.joblib.dat']"
      ]
     },
     "execution_count": 101,
     "metadata": {},
     "output_type": "execute_result"
    }
   ],
   "source": [
    "from sklearn.externals import joblib\n",
    "joblib.dump(gbm, 'pima.joblib.dat')"
   ]
  },
  {
   "cell_type": "code",
   "execution_count": 102,
   "metadata": {},
   "outputs": [],
   "source": [
    "with open('model.pkl', 'wb') as outfile:\n",
    "    pickle.dump(gbm, outfile)"
   ]
  },
  {
   "cell_type": "code",
   "execution_count": 106,
   "metadata": {
    "scrolled": true
   },
   "outputs": [],
   "source": [
    "pickle.dump(df[feat], open('feature.pkl', 'wb'))"
   ]
  },
  {
   "cell_type": "code",
   "execution_count": 107,
   "metadata": {},
   "outputs": [],
   "source": [
    "with open('feature.pkl', 'wb') as outfile:\n",
    "    pickle.dump(df[feat], outfile)"
   ]
  },
  {
   "cell_type": "code",
   "execution_count": null,
   "metadata": {},
   "outputs": [],
   "source": []
  }
 ],
 "metadata": {
  "anaconda-cloud": {},
  "kernelspec": {
   "display_name": "Python 3",
   "language": "python",
   "name": "python3"
  },
  "language_info": {
   "codemirror_mode": {
    "name": "ipython",
    "version": 3
   },
   "file_extension": ".py",
   "mimetype": "text/x-python",
   "name": "python",
   "nbconvert_exporter": "python",
   "pygments_lexer": "ipython3",
   "version": "3.6.5"
  },
  "toc": {
   "nav_menu": {},
   "number_sections": true,
   "sideBar": true,
   "skip_h1_title": false,
   "toc_cell": false,
   "toc_position": {},
   "toc_section_display": "block",
   "toc_window_display": false
  }
 },
 "nbformat": 4,
 "nbformat_minor": 1
}
